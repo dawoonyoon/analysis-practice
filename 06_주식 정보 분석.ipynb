{
 "cells": [
  {
   "cell_type": "code",
   "execution_count": 1,
   "id": "a473f389",
   "metadata": {},
   "outputs": [],
   "source": [
    "import pandas as pd\n",
    "import numpy as np\n",
    "import matplotlib.pyplot as plt\n",
    "import seaborn as sns\n",
    "\n",
    "# 불필요한 경고 메세지를 나오지 않도록\n",
    "import warnings\n",
    "warnings.filterwarnings('ignore')\n",
    "\n",
    "# Seaborn에서 제공하는 그래프 테마\n",
    "# sns.set_style(\"ticks\")\n",
    "# sns.set_style(\"darkgrid\")\n",
    "# sns.set_style(\"whitegrid\")\n",
    "\n",
    "plt.rcParams['font.family'] = 'Malgun Gothic'\n",
    "plt.rcParams['figure.figsize'] = 12, 6\n",
    "plt.rcParams['font.size'] = 14\n",
    "plt.rcParams['axes.unicode_minus'] = False"
   ]
  },
  {
   "cell_type": "markdown",
   "id": "23924ee6",
   "metadata": {},
   "source": [
    "- 주식 정보를 읽어오기 위한 라이브러리 \n",
    "- pip install pandas_datareader"
   ]
  },
  {
   "cell_type": "code",
   "execution_count": 3,
   "id": "bee1c17f",
   "metadata": {},
   "outputs": [],
   "source": [
    "from pandas_datareader import data\n",
    "import datetime"
   ]
  },
  {
   "cell_type": "code",
   "execution_count": 14,
   "id": "2cfc83e7",
   "metadata": {},
   "outputs": [],
   "source": [
    "# 시작날짜\n",
    "start = datetime.datetime(2010, 1, 1)\n",
    "\n",
    "# 종료날짜\n",
    "end = datetime.datetime(2021, 7, 7)"
   ]
  },
  {
   "cell_type": "code",
   "execution_count": 15,
   "id": "86564471",
   "metadata": {
    "scrolled": true
   },
   "outputs": [
    {
     "ename": "RemoteDataError",
     "evalue": "Unable to read URL: https://finance.yahoo.com/quote/005930.KS/history?period1=1262286000&period2=1625684399&interval=1d&frequency=1d&filter=history\nResponse Text:\nb'<!DOCTYPE html>\\n  <html lang=\"en-us\"><head>\\n  <meta http-equiv=\"content-type\" content=\"text/html; charset=UTF-8\">\\n      <meta charset=\"utf-8\">\\n      <title>Yahoo</title>\\n      <meta name=\"viewport\" content=\"width=device-width,initial-scale=1,minimal-ui\">\\n      <meta http-equiv=\"X-UA-Compatible\" content=\"IE=edge,chrome=1\">\\n      <style>\\n  html {\\n      height: 100%;\\n  }\\n  body {\\n      background: #fafafc url(https://s.yimg.com/nn/img/sad-panda-201402200631.png) 50% 50%;\\n      background-size: cover;\\n      height: 100%;\\n      text-align: center;\\n      font: 300 18px \"helvetica neue\", helvetica, verdana, tahoma, arial, sans-serif;\\n  }\\n  table {\\n      height: 100%;\\n      width: 100%;\\n      table-layout: fixed;\\n      border-collapse: collapse;\\n      border-spacing: 0;\\n      border: none;\\n  }\\n  h1 {\\n      font-size: 42px;\\n      font-weight: 400;\\n      color: #400090;\\n  }\\n  p {\\n      color: #1A1A1A;\\n  }\\n  #message-1 {\\n      font-weight: bold;\\n      margin: 0;\\n  }\\n  #message-2 {\\n      display: inline-block;\\n      *display: inline;\\n      zoom: 1;\\n      max-width: 17em;\\n      _width: 17em;\\n  }\\n      </style>\\n  <script>\\n    document.write(\\'<img src=\"//geo.yahoo.com/b?s=1197757129&t=\\'+new Date().getTime()+\\'&src=aws&err_url=\\'+encodeURIComponent(document.URL)+\\'&err=%<pssc>&test=\\'+encodeURIComponent(\\'%<{Bucket}cqh[:200]>\\')+\\'\" width=\"0px\" height=\"0px\"/>\\');var beacon = new Image();beacon.src=\"//bcn.fp.yahoo.com/p?s=1197757129&t=\"+new Date().getTime()+\"&src=aws&err_url=\"+encodeURIComponent(document.URL)+\"&err=%<pssc>&test=\"+encodeURIComponent(\\'%<{Bucket}cqh[:200]>\\');\\n  </script>\\n  </head>\\n  <body>\\n  <!-- status code : 404 -->\\n  <!-- Not Found on Server -->\\n  <table>\\n  <tbody><tr>\\n      <td>\\n      <img src=\"https://s.yimg.com/rz/p/yahoo_frontpage_en-US_s_f_p_205x58_frontpage.png\" alt=\"Yahoo Logo\">\\n      <h1 style=\"margin-top:20px;\">Will be right back...</h1>\\n      <p id=\"message-1\">Thank you for your patience.</p>\\n      <p id=\"message-2\">Our engineers are working quickly to resolve the issue.</p>\\n      </td>\\n  </tr>\\n  </tbody></table>\\n  </body></html>'",
     "output_type": "error",
     "traceback": [
      "\u001b[1;31m---------------------------------------------------------------------------\u001b[0m",
      "\u001b[1;31mRemoteDataError\u001b[0m                           Traceback (most recent call last)",
      "\u001b[1;32m<ipython-input-15-e91af52b3160>\u001b[0m in \u001b[0;36m<module>\u001b[1;34m\u001b[0m\n\u001b[0;32m      1\u001b[0m \u001b[1;31m# 삼성전자 주식 데이터 읽어오기\u001b[0m\u001b[1;33m\u001b[0m\u001b[1;33m\u001b[0m\u001b[1;33m\u001b[0m\u001b[0m\n\u001b[1;32m----> 2\u001b[1;33m \u001b[0mf\u001b[0m \u001b[1;33m=\u001b[0m \u001b[0mdata\u001b[0m\u001b[1;33m.\u001b[0m\u001b[0mDataReader\u001b[0m\u001b[1;33m(\u001b[0m\u001b[1;34m'005930.KS'\u001b[0m\u001b[1;33m,\u001b[0m \u001b[1;34m'yahoo'\u001b[0m\u001b[1;33m,\u001b[0m \u001b[0mstart\u001b[0m\u001b[1;33m,\u001b[0m \u001b[0mend\u001b[0m\u001b[1;33m)\u001b[0m\u001b[1;33m\u001b[0m\u001b[1;33m\u001b[0m\u001b[0m\n\u001b[0m\u001b[0;32m      3\u001b[0m \u001b[0mf\u001b[0m\u001b[1;33m\u001b[0m\u001b[1;33m\u001b[0m\u001b[0m\n",
      "\u001b[1;32mC:\\ProgramData\\Anaconda3\\lib\\site-packages\\pandas\\util\\_decorators.py\u001b[0m in \u001b[0;36mwrapper\u001b[1;34m(*args, **kwargs)\u001b[0m\n\u001b[0;32m    197\u001b[0m                 \u001b[1;32melse\u001b[0m\u001b[1;33m:\u001b[0m\u001b[1;33m\u001b[0m\u001b[1;33m\u001b[0m\u001b[0m\n\u001b[0;32m    198\u001b[0m                     \u001b[0mkwargs\u001b[0m\u001b[1;33m[\u001b[0m\u001b[0mnew_arg_name\u001b[0m\u001b[1;33m]\u001b[0m \u001b[1;33m=\u001b[0m \u001b[0mnew_arg_value\u001b[0m\u001b[1;33m\u001b[0m\u001b[1;33m\u001b[0m\u001b[0m\n\u001b[1;32m--> 199\u001b[1;33m             \u001b[1;32mreturn\u001b[0m \u001b[0mfunc\u001b[0m\u001b[1;33m(\u001b[0m\u001b[1;33m*\u001b[0m\u001b[0margs\u001b[0m\u001b[1;33m,\u001b[0m \u001b[1;33m**\u001b[0m\u001b[0mkwargs\u001b[0m\u001b[1;33m)\u001b[0m\u001b[1;33m\u001b[0m\u001b[1;33m\u001b[0m\u001b[0m\n\u001b[0m\u001b[0;32m    200\u001b[0m \u001b[1;33m\u001b[0m\u001b[0m\n\u001b[0;32m    201\u001b[0m         \u001b[1;32mreturn\u001b[0m \u001b[0mcast\u001b[0m\u001b[1;33m(\u001b[0m\u001b[0mF\u001b[0m\u001b[1;33m,\u001b[0m \u001b[0mwrapper\u001b[0m\u001b[1;33m)\u001b[0m\u001b[1;33m\u001b[0m\u001b[1;33m\u001b[0m\u001b[0m\n",
      "\u001b[1;32mC:\\ProgramData\\Anaconda3\\lib\\site-packages\\pandas_datareader\\data.py\u001b[0m in \u001b[0;36mDataReader\u001b[1;34m(name, data_source, start, end, retry_count, pause, session, api_key)\u001b[0m\n\u001b[0;32m    374\u001b[0m \u001b[1;33m\u001b[0m\u001b[0m\n\u001b[0;32m    375\u001b[0m     \u001b[1;32mif\u001b[0m \u001b[0mdata_source\u001b[0m \u001b[1;33m==\u001b[0m \u001b[1;34m\"yahoo\"\u001b[0m\u001b[1;33m:\u001b[0m\u001b[1;33m\u001b[0m\u001b[1;33m\u001b[0m\u001b[0m\n\u001b[1;32m--> 376\u001b[1;33m         return YahooDailyReader(\n\u001b[0m\u001b[0;32m    377\u001b[0m             \u001b[0msymbols\u001b[0m\u001b[1;33m=\u001b[0m\u001b[0mname\u001b[0m\u001b[1;33m,\u001b[0m\u001b[1;33m\u001b[0m\u001b[1;33m\u001b[0m\u001b[0m\n\u001b[0;32m    378\u001b[0m             \u001b[0mstart\u001b[0m\u001b[1;33m=\u001b[0m\u001b[0mstart\u001b[0m\u001b[1;33m,\u001b[0m\u001b[1;33m\u001b[0m\u001b[1;33m\u001b[0m\u001b[0m\n",
      "\u001b[1;32mC:\\ProgramData\\Anaconda3\\lib\\site-packages\\pandas_datareader\\base.py\u001b[0m in \u001b[0;36mread\u001b[1;34m(self)\u001b[0m\n\u001b[0;32m    251\u001b[0m         \u001b[1;31m# If a single symbol, (e.g., 'GOOG')\u001b[0m\u001b[1;33m\u001b[0m\u001b[1;33m\u001b[0m\u001b[1;33m\u001b[0m\u001b[0m\n\u001b[0;32m    252\u001b[0m         \u001b[1;32mif\u001b[0m \u001b[0misinstance\u001b[0m\u001b[1;33m(\u001b[0m\u001b[0mself\u001b[0m\u001b[1;33m.\u001b[0m\u001b[0msymbols\u001b[0m\u001b[1;33m,\u001b[0m \u001b[1;33m(\u001b[0m\u001b[0mstring_types\u001b[0m\u001b[1;33m,\u001b[0m \u001b[0mint\u001b[0m\u001b[1;33m)\u001b[0m\u001b[1;33m)\u001b[0m\u001b[1;33m:\u001b[0m\u001b[1;33m\u001b[0m\u001b[1;33m\u001b[0m\u001b[0m\n\u001b[1;32m--> 253\u001b[1;33m             \u001b[0mdf\u001b[0m \u001b[1;33m=\u001b[0m \u001b[0mself\u001b[0m\u001b[1;33m.\u001b[0m\u001b[0m_read_one_data\u001b[0m\u001b[1;33m(\u001b[0m\u001b[0mself\u001b[0m\u001b[1;33m.\u001b[0m\u001b[0murl\u001b[0m\u001b[1;33m,\u001b[0m \u001b[0mparams\u001b[0m\u001b[1;33m=\u001b[0m\u001b[0mself\u001b[0m\u001b[1;33m.\u001b[0m\u001b[0m_get_params\u001b[0m\u001b[1;33m(\u001b[0m\u001b[0mself\u001b[0m\u001b[1;33m.\u001b[0m\u001b[0msymbols\u001b[0m\u001b[1;33m)\u001b[0m\u001b[1;33m)\u001b[0m\u001b[1;33m\u001b[0m\u001b[1;33m\u001b[0m\u001b[0m\n\u001b[0m\u001b[0;32m    254\u001b[0m         \u001b[1;31m# Or multiple symbols, (e.g., ['GOOG', 'AAPL', 'MSFT'])\u001b[0m\u001b[1;33m\u001b[0m\u001b[1;33m\u001b[0m\u001b[1;33m\u001b[0m\u001b[0m\n\u001b[0;32m    255\u001b[0m         \u001b[1;32melif\u001b[0m \u001b[0misinstance\u001b[0m\u001b[1;33m(\u001b[0m\u001b[0mself\u001b[0m\u001b[1;33m.\u001b[0m\u001b[0msymbols\u001b[0m\u001b[1;33m,\u001b[0m \u001b[0mDataFrame\u001b[0m\u001b[1;33m)\u001b[0m\u001b[1;33m:\u001b[0m\u001b[1;33m\u001b[0m\u001b[1;33m\u001b[0m\u001b[0m\n",
      "\u001b[1;32mC:\\ProgramData\\Anaconda3\\lib\\site-packages\\pandas_datareader\\yahoo\\daily.py\u001b[0m in \u001b[0;36m_read_one_data\u001b[1;34m(self, url, params)\u001b[0m\n\u001b[0;32m    151\u001b[0m         \u001b[0murl\u001b[0m \u001b[1;33m=\u001b[0m \u001b[0murl\u001b[0m\u001b[1;33m.\u001b[0m\u001b[0mformat\u001b[0m\u001b[1;33m(\u001b[0m\u001b[0msymbol\u001b[0m\u001b[1;33m)\u001b[0m\u001b[1;33m\u001b[0m\u001b[1;33m\u001b[0m\u001b[0m\n\u001b[0;32m    152\u001b[0m \u001b[1;33m\u001b[0m\u001b[0m\n\u001b[1;32m--> 153\u001b[1;33m         \u001b[0mresp\u001b[0m \u001b[1;33m=\u001b[0m \u001b[0mself\u001b[0m\u001b[1;33m.\u001b[0m\u001b[0m_get_response\u001b[0m\u001b[1;33m(\u001b[0m\u001b[0murl\u001b[0m\u001b[1;33m,\u001b[0m \u001b[0mparams\u001b[0m\u001b[1;33m=\u001b[0m\u001b[0mparams\u001b[0m\u001b[1;33m)\u001b[0m\u001b[1;33m\u001b[0m\u001b[1;33m\u001b[0m\u001b[0m\n\u001b[0m\u001b[0;32m    154\u001b[0m         \u001b[0mptrn\u001b[0m \u001b[1;33m=\u001b[0m \u001b[1;34mr\"root\\.App\\.main = (.*?);\\n}\\(this\\)\\);\"\u001b[0m\u001b[1;33m\u001b[0m\u001b[1;33m\u001b[0m\u001b[0m\n\u001b[0;32m    155\u001b[0m         \u001b[1;32mtry\u001b[0m\u001b[1;33m:\u001b[0m\u001b[1;33m\u001b[0m\u001b[1;33m\u001b[0m\u001b[0m\n",
      "\u001b[1;32mC:\\ProgramData\\Anaconda3\\lib\\site-packages\\pandas_datareader\\base.py\u001b[0m in \u001b[0;36m_get_response\u001b[1;34m(self, url, params, headers)\u001b[0m\n\u001b[0;32m    179\u001b[0m             \u001b[0mmsg\u001b[0m \u001b[1;33m+=\u001b[0m \u001b[1;34m\"\\nResponse Text:\\n{0}\"\u001b[0m\u001b[1;33m.\u001b[0m\u001b[0mformat\u001b[0m\u001b[1;33m(\u001b[0m\u001b[0mlast_response_text\u001b[0m\u001b[1;33m)\u001b[0m\u001b[1;33m\u001b[0m\u001b[1;33m\u001b[0m\u001b[0m\n\u001b[0;32m    180\u001b[0m \u001b[1;33m\u001b[0m\u001b[0m\n\u001b[1;32m--> 181\u001b[1;33m         \u001b[1;32mraise\u001b[0m \u001b[0mRemoteDataError\u001b[0m\u001b[1;33m(\u001b[0m\u001b[0mmsg\u001b[0m\u001b[1;33m)\u001b[0m\u001b[1;33m\u001b[0m\u001b[1;33m\u001b[0m\u001b[0m\n\u001b[0m\u001b[0;32m    182\u001b[0m \u001b[1;33m\u001b[0m\u001b[0m\n\u001b[0;32m    183\u001b[0m     \u001b[1;32mdef\u001b[0m \u001b[0m_get_crumb\u001b[0m\u001b[1;33m(\u001b[0m\u001b[0mself\u001b[0m\u001b[1;33m,\u001b[0m \u001b[1;33m*\u001b[0m\u001b[0margs\u001b[0m\u001b[1;33m)\u001b[0m\u001b[1;33m:\u001b[0m\u001b[1;33m\u001b[0m\u001b[1;33m\u001b[0m\u001b[0m\n",
      "\u001b[1;31mRemoteDataError\u001b[0m: Unable to read URL: https://finance.yahoo.com/quote/005930.KS/history?period1=1262286000&period2=1625684399&interval=1d&frequency=1d&filter=history\nResponse Text:\nb'<!DOCTYPE html>\\n  <html lang=\"en-us\"><head>\\n  <meta http-equiv=\"content-type\" content=\"text/html; charset=UTF-8\">\\n      <meta charset=\"utf-8\">\\n      <title>Yahoo</title>\\n      <meta name=\"viewport\" content=\"width=device-width,initial-scale=1,minimal-ui\">\\n      <meta http-equiv=\"X-UA-Compatible\" content=\"IE=edge,chrome=1\">\\n      <style>\\n  html {\\n      height: 100%;\\n  }\\n  body {\\n      background: #fafafc url(https://s.yimg.com/nn/img/sad-panda-201402200631.png) 50% 50%;\\n      background-size: cover;\\n      height: 100%;\\n      text-align: center;\\n      font: 300 18px \"helvetica neue\", helvetica, verdana, tahoma, arial, sans-serif;\\n  }\\n  table {\\n      height: 100%;\\n      width: 100%;\\n      table-layout: fixed;\\n      border-collapse: collapse;\\n      border-spacing: 0;\\n      border: none;\\n  }\\n  h1 {\\n      font-size: 42px;\\n      font-weight: 400;\\n      color: #400090;\\n  }\\n  p {\\n      color: #1A1A1A;\\n  }\\n  #message-1 {\\n      font-weight: bold;\\n      margin: 0;\\n  }\\n  #message-2 {\\n      display: inline-block;\\n      *display: inline;\\n      zoom: 1;\\n      max-width: 17em;\\n      _width: 17em;\\n  }\\n      </style>\\n  <script>\\n    document.write(\\'<img src=\"//geo.yahoo.com/b?s=1197757129&t=\\'+new Date().getTime()+\\'&src=aws&err_url=\\'+encodeURIComponent(document.URL)+\\'&err=%<pssc>&test=\\'+encodeURIComponent(\\'%<{Bucket}cqh[:200]>\\')+\\'\" width=\"0px\" height=\"0px\"/>\\');var beacon = new Image();beacon.src=\"//bcn.fp.yahoo.com/p?s=1197757129&t=\"+new Date().getTime()+\"&src=aws&err_url=\"+encodeURIComponent(document.URL)+\"&err=%<pssc>&test=\"+encodeURIComponent(\\'%<{Bucket}cqh[:200]>\\');\\n  </script>\\n  </head>\\n  <body>\\n  <!-- status code : 404 -->\\n  <!-- Not Found on Server -->\\n  <table>\\n  <tbody><tr>\\n      <td>\\n      <img src=\"https://s.yimg.com/rz/p/yahoo_frontpage_en-US_s_f_p_205x58_frontpage.png\" alt=\"Yahoo Logo\">\\n      <h1 style=\"margin-top:20px;\">Will be right back...</h1>\\n      <p id=\"message-1\">Thank you for your patience.</p>\\n      <p id=\"message-2\">Our engineers are working quickly to resolve the issue.</p>\\n      </td>\\n  </tr>\\n  </tbody></table>\\n  </body></html>'"
     ]
    }
   ],
   "source": [
    "# 삼성전자 주식 데이터 읽어오기\n",
    "f = data.DataReader('005930.KS', 'yahoo', start, end)\n",
    "f"
   ]
  },
  {
   "cell_type": "code",
   "execution_count": 17,
   "id": "2f31d988",
   "metadata": {},
   "outputs": [
    {
     "data": {
      "text/html": [
       "<div>\n",
       "<style scoped>\n",
       "    .dataframe tbody tr th:only-of-type {\n",
       "        vertical-align: middle;\n",
       "    }\n",
       "\n",
       "    .dataframe tbody tr th {\n",
       "        vertical-align: top;\n",
       "    }\n",
       "\n",
       "    .dataframe thead th {\n",
       "        text-align: right;\n",
       "    }\n",
       "</style>\n",
       "<table border=\"1\" class=\"dataframe\">\n",
       "  <thead>\n",
       "    <tr style=\"text-align: right;\">\n",
       "      <th></th>\n",
       "      <th>Open</th>\n",
       "      <th>High</th>\n",
       "      <th>Low</th>\n",
       "      <th>Close</th>\n",
       "      <th>Adj Close</th>\n",
       "      <th>Volume</th>\n",
       "    </tr>\n",
       "    <tr>\n",
       "      <th>Date</th>\n",
       "      <th></th>\n",
       "      <th></th>\n",
       "      <th></th>\n",
       "      <th></th>\n",
       "      <th></th>\n",
       "      <th></th>\n",
       "    </tr>\n",
       "  </thead>\n",
       "  <tbody>\n",
       "    <tr>\n",
       "      <th>2010-01-04</th>\n",
       "      <td>16060.0</td>\n",
       "      <td>16180.0</td>\n",
       "      <td>16000.0</td>\n",
       "      <td>16180.0</td>\n",
       "      <td>13134.010742</td>\n",
       "      <td>11950800.0</td>\n",
       "    </tr>\n",
       "    <tr>\n",
       "      <th>2010-01-05</th>\n",
       "      <td>16520.0</td>\n",
       "      <td>16580.0</td>\n",
       "      <td>16300.0</td>\n",
       "      <td>16440.0</td>\n",
       "      <td>13345.065430</td>\n",
       "      <td>27925850.0</td>\n",
       "    </tr>\n",
       "    <tr>\n",
       "      <th>2010-01-06</th>\n",
       "      <td>16580.0</td>\n",
       "      <td>16820.0</td>\n",
       "      <td>16520.0</td>\n",
       "      <td>16820.0</td>\n",
       "      <td>13653.530273</td>\n",
       "      <td>22948850.0</td>\n",
       "    </tr>\n",
       "    <tr>\n",
       "      <th>2010-01-07</th>\n",
       "      <td>16820.0</td>\n",
       "      <td>16820.0</td>\n",
       "      <td>16260.0</td>\n",
       "      <td>16260.0</td>\n",
       "      <td>13198.952148</td>\n",
       "      <td>22107950.0</td>\n",
       "    </tr>\n",
       "    <tr>\n",
       "      <th>2010-01-08</th>\n",
       "      <td>16400.0</td>\n",
       "      <td>16420.0</td>\n",
       "      <td>16120.0</td>\n",
       "      <td>16420.0</td>\n",
       "      <td>13328.830078</td>\n",
       "      <td>14777550.0</td>\n",
       "    </tr>\n",
       "    <tr>\n",
       "      <th>...</th>\n",
       "      <td>...</td>\n",
       "      <td>...</td>\n",
       "      <td>...</td>\n",
       "      <td>...</td>\n",
       "      <td>...</td>\n",
       "      <td>...</td>\n",
       "    </tr>\n",
       "    <tr>\n",
       "      <th>2021-07-01</th>\n",
       "      <td>80500.0</td>\n",
       "      <td>80600.0</td>\n",
       "      <td>80000.0</td>\n",
       "      <td>80100.0</td>\n",
       "      <td>80100.000000</td>\n",
       "      <td>13382882.0</td>\n",
       "    </tr>\n",
       "    <tr>\n",
       "      <th>2021-07-02</th>\n",
       "      <td>80000.0</td>\n",
       "      <td>80400.0</td>\n",
       "      <td>79900.0</td>\n",
       "      <td>80000.0</td>\n",
       "      <td>80000.000000</td>\n",
       "      <td>8753097.0</td>\n",
       "    </tr>\n",
       "    <tr>\n",
       "      <th>2021-07-05</th>\n",
       "      <td>80100.0</td>\n",
       "      <td>80800.0</td>\n",
       "      <td>80000.0</td>\n",
       "      <td>80400.0</td>\n",
       "      <td>80400.000000</td>\n",
       "      <td>8330969.0</td>\n",
       "    </tr>\n",
       "    <tr>\n",
       "      <th>2021-07-06</th>\n",
       "      <td>80600.0</td>\n",
       "      <td>81200.0</td>\n",
       "      <td>80500.0</td>\n",
       "      <td>81200.0</td>\n",
       "      <td>81200.000000</td>\n",
       "      <td>12131651.0</td>\n",
       "    </tr>\n",
       "    <tr>\n",
       "      <th>2021-07-07</th>\n",
       "      <td>81200.0</td>\n",
       "      <td>81300.0</td>\n",
       "      <td>80300.0</td>\n",
       "      <td>80800.0</td>\n",
       "      <td>80800.000000</td>\n",
       "      <td>15992202.0</td>\n",
       "    </tr>\n",
       "  </tbody>\n",
       "</table>\n",
       "<p>2841 rows × 6 columns</p>\n",
       "</div>"
      ],
      "text/plain": [
       "               Open     High      Low    Close     Adj Close      Volume\n",
       "Date                                                                    \n",
       "2010-01-04  16060.0  16180.0  16000.0  16180.0  13134.010742  11950800.0\n",
       "2010-01-05  16520.0  16580.0  16300.0  16440.0  13345.065430  27925850.0\n",
       "2010-01-06  16580.0  16820.0  16520.0  16820.0  13653.530273  22948850.0\n",
       "2010-01-07  16820.0  16820.0  16260.0  16260.0  13198.952148  22107950.0\n",
       "2010-01-08  16400.0  16420.0  16120.0  16420.0  13328.830078  14777550.0\n",
       "...             ...      ...      ...      ...           ...         ...\n",
       "2021-07-01  80500.0  80600.0  80000.0  80100.0  80100.000000  13382882.0\n",
       "2021-07-02  80000.0  80400.0  79900.0  80000.0  80000.000000   8753097.0\n",
       "2021-07-05  80100.0  80800.0  80000.0  80400.0  80400.000000   8330969.0\n",
       "2021-07-06  80600.0  81200.0  80500.0  81200.0  81200.000000  12131651.0\n",
       "2021-07-07  81200.0  81300.0  80300.0  80800.0  80800.000000  15992202.0\n",
       "\n",
       "[2841 rows x 6 columns]"
      ]
     },
     "execution_count": 17,
     "metadata": {},
     "output_type": "execute_result"
    }
   ],
   "source": [
    "# 내려받은 csv 파일 읽어오기\n",
    "f = pd.read_csv('data2/005930.KS.csv')\n",
    "cel = f.set_index('Date')\n",
    "cel"
   ]
  },
  {
   "cell_type": "code",
   "execution_count": 19,
   "id": "75a57a1b",
   "metadata": {},
   "outputs": [
    {
     "data": {
      "text/plain": [
       "Index(['2010-01-04', '2010-01-05', '2010-01-06', '2010-01-07', '2010-01-08',\n",
       "       '2010-01-11', '2010-01-12', '2010-01-13', '2010-01-14', '2010-01-15',\n",
       "       ...\n",
       "       '2021-06-24', '2021-06-25', '2021-06-28', '2021-06-29', '2021-06-30',\n",
       "       '2021-07-01', '2021-07-02', '2021-07-05', '2021-07-06', '2021-07-07'],\n",
       "      dtype='object', name='Date', length=2841)"
      ]
     },
     "execution_count": 19,
     "metadata": {},
     "output_type": "execute_result"
    }
   ],
   "source": [
    "# index의 데이터 타입 확인\n",
    "#dtype 확인\n",
    "cel.index"
   ]
  },
  {
   "cell_type": "code",
   "execution_count": 20,
   "id": "cef2da0e",
   "metadata": {},
   "outputs": [
    {
     "name": "stdout",
     "output_type": "stream",
     "text": [
      "<class 'pandas.core.frame.DataFrame'>\n",
      "Index: 2841 entries, 2010-01-04 to 2021-07-07\n",
      "Data columns (total 6 columns):\n",
      " #   Column     Non-Null Count  Dtype  \n",
      "---  ------     --------------  -----  \n",
      " 0   Open       2836 non-null   float64\n",
      " 1   High       2836 non-null   float64\n",
      " 2   Low        2836 non-null   float64\n",
      " 3   Close      2836 non-null   float64\n",
      " 4   Adj Close  2836 non-null   float64\n",
      " 5   Volume     2836 non-null   float64\n",
      "dtypes: float64(6)\n",
      "memory usage: 155.4+ KB\n"
     ]
    }
   ],
   "source": [
    "# column들의 데이터 타입 확인\n",
    "cel.info()"
   ]
  },
  {
   "cell_type": "code",
   "execution_count": 21,
   "id": "862b63cf",
   "metadata": {},
   "outputs": [
    {
     "data": {
      "text/plain": [
       "DatetimeIndex(['2010-01-04', '2010-01-05', '2010-01-06', '2010-01-07',\n",
       "               '2010-01-08', '2010-01-11', '2010-01-12', '2010-01-13',\n",
       "               '2010-01-14', '2010-01-15',\n",
       "               ...\n",
       "               '2021-06-24', '2021-06-25', '2021-06-28', '2021-06-29',\n",
       "               '2021-06-30', '2021-07-01', '2021-07-02', '2021-07-05',\n",
       "               '2021-07-06', '2021-07-07'],\n",
       "              dtype='datetime64[ns]', name='Date', length=2841, freq=None)"
      ]
     },
     "execution_count": 21,
     "metadata": {},
     "output_type": "execute_result"
    }
   ],
   "source": [
    "# index를 날짜 타입으로 변경\n",
    "cel.index = pd.to_datetime(cel.index, format='%Y-%m-%d')\n",
    "cel.index"
   ]
  },
  {
   "cell_type": "markdown",
   "id": "504f6f8f",
   "metadata": {},
   "source": [
    "### 주식 데이터 확인"
   ]
  },
  {
   "cell_type": "code",
   "execution_count": 23,
   "id": "2c15747e",
   "metadata": {},
   "outputs": [
    {
     "name": "stdout",
     "output_type": "stream",
     "text": [
      "<class 'pandas.core.frame.DataFrame'>\n",
      "DatetimeIndex: 2841 entries, 2010-01-04 to 2021-07-07\n",
      "Data columns (total 6 columns):\n",
      " #   Column     Non-Null Count  Dtype  \n",
      "---  ------     --------------  -----  \n",
      " 0   Open       2836 non-null   float64\n",
      " 1   High       2836 non-null   float64\n",
      " 2   Low        2836 non-null   float64\n",
      " 3   Close      2836 non-null   float64\n",
      " 4   Adj Close  2836 non-null   float64\n",
      " 5   Volume     2836 non-null   float64\n",
      "dtypes: float64(6)\n",
      "memory usage: 155.4 KB\n"
     ]
    }
   ],
   "source": [
    "# DataFrame 요약 정보 확인\n",
    "# Column명, Dtype\n",
    "cel.info()"
   ]
  },
  {
   "cell_type": "code",
   "execution_count": 24,
   "id": "c83af755",
   "metadata": {},
   "outputs": [
    {
     "data": {
      "text/plain": [
       "Open         5\n",
       "High         5\n",
       "Low          5\n",
       "Close        5\n",
       "Adj Close    5\n",
       "Volume       5\n",
       "dtype: int64"
      ]
     },
     "execution_count": 24,
     "metadata": {},
     "output_type": "execute_result"
    }
   ],
   "source": [
    "# 결측치 확인\n",
    "cel.isna().sum()"
   ]
  },
  {
   "cell_type": "code",
   "execution_count": 27,
   "id": "1989ba52",
   "metadata": {},
   "outputs": [
    {
     "data": {
      "text/html": [
       "<div>\n",
       "<style scoped>\n",
       "    .dataframe tbody tr th:only-of-type {\n",
       "        vertical-align: middle;\n",
       "    }\n",
       "\n",
       "    .dataframe tbody tr th {\n",
       "        vertical-align: top;\n",
       "    }\n",
       "\n",
       "    .dataframe thead th {\n",
       "        text-align: right;\n",
       "    }\n",
       "</style>\n",
       "<table border=\"1\" class=\"dataframe\">\n",
       "  <thead>\n",
       "    <tr style=\"text-align: right;\">\n",
       "      <th></th>\n",
       "      <th>Open</th>\n",
       "      <th>High</th>\n",
       "      <th>Low</th>\n",
       "      <th>Close</th>\n",
       "      <th>Adj Close</th>\n",
       "      <th>Volume</th>\n",
       "    </tr>\n",
       "    <tr>\n",
       "      <th>Date</th>\n",
       "      <th></th>\n",
       "      <th></th>\n",
       "      <th></th>\n",
       "      <th></th>\n",
       "      <th></th>\n",
       "      <th></th>\n",
       "    </tr>\n",
       "  </thead>\n",
       "  <tbody>\n",
       "    <tr>\n",
       "      <th>2017-11-16</th>\n",
       "      <td>NaN</td>\n",
       "      <td>NaN</td>\n",
       "      <td>NaN</td>\n",
       "      <td>NaN</td>\n",
       "      <td>NaN</td>\n",
       "      <td>NaN</td>\n",
       "    </tr>\n",
       "    <tr>\n",
       "      <th>2017-11-23</th>\n",
       "      <td>NaN</td>\n",
       "      <td>NaN</td>\n",
       "      <td>NaN</td>\n",
       "      <td>NaN</td>\n",
       "      <td>NaN</td>\n",
       "      <td>NaN</td>\n",
       "    </tr>\n",
       "    <tr>\n",
       "      <th>2018-01-02</th>\n",
       "      <td>NaN</td>\n",
       "      <td>NaN</td>\n",
       "      <td>NaN</td>\n",
       "      <td>NaN</td>\n",
       "      <td>NaN</td>\n",
       "      <td>NaN</td>\n",
       "    </tr>\n",
       "    <tr>\n",
       "      <th>2018-11-15</th>\n",
       "      <td>NaN</td>\n",
       "      <td>NaN</td>\n",
       "      <td>NaN</td>\n",
       "      <td>NaN</td>\n",
       "      <td>NaN</td>\n",
       "      <td>NaN</td>\n",
       "    </tr>\n",
       "    <tr>\n",
       "      <th>2019-11-14</th>\n",
       "      <td>NaN</td>\n",
       "      <td>NaN</td>\n",
       "      <td>NaN</td>\n",
       "      <td>NaN</td>\n",
       "      <td>NaN</td>\n",
       "      <td>NaN</td>\n",
       "    </tr>\n",
       "  </tbody>\n",
       "</table>\n",
       "</div>"
      ],
      "text/plain": [
       "            Open  High  Low  Close  Adj Close  Volume\n",
       "Date                                                 \n",
       "2017-11-16   NaN   NaN  NaN    NaN        NaN     NaN\n",
       "2017-11-23   NaN   NaN  NaN    NaN        NaN     NaN\n",
       "2018-01-02   NaN   NaN  NaN    NaN        NaN     NaN\n",
       "2018-11-15   NaN   NaN  NaN    NaN        NaN     NaN\n",
       "2019-11-14   NaN   NaN  NaN    NaN        NaN     NaN"
      ]
     },
     "execution_count": 27,
     "metadata": {},
     "output_type": "execute_result"
    }
   ],
   "source": [
    "cel[cel['Open'].isna()]"
   ]
  },
  {
   "cell_type": "code",
   "execution_count": 28,
   "id": "74de1bdb",
   "metadata": {},
   "outputs": [
    {
     "data": {
      "text/plain": [
       "Open         0\n",
       "High         0\n",
       "Low          0\n",
       "Close        0\n",
       "Adj Close    0\n",
       "Volume       0\n",
       "dtype: int64"
      ]
     },
     "execution_count": 28,
     "metadata": {},
     "output_type": "execute_result"
    }
   ],
   "source": [
    "# 결측치는 제거\n",
    "cel.dropna(inplace=True)\n",
    "cel.isna().sum()"
   ]
  },
  {
   "cell_type": "markdown",
   "id": "b9fad1db",
   "metadata": {},
   "source": [
    "### 일별 수익률 계산"
   ]
  },
  {
   "cell_type": "code",
   "execution_count": 30,
   "id": "ec3aeab5",
   "metadata": {},
   "outputs": [
    {
     "data": {
      "text/plain": [
       "Date\n",
       "2010-01-04      NaN\n",
       "2010-01-05    260.0\n",
       "2010-01-06    380.0\n",
       "2010-01-07   -560.0\n",
       "2010-01-08    160.0\n",
       "              ...  \n",
       "2021-07-01   -600.0\n",
       "2021-07-02   -100.0\n",
       "2021-07-05    400.0\n",
       "2021-07-06    800.0\n",
       "2021-07-07   -400.0\n",
       "Name: Close, Length: 2836, dtype: float64"
      ]
     },
     "execution_count": 30,
     "metadata": {},
     "output_type": "execute_result"
    }
   ],
   "source": [
    "# 이전 데이터와 얼마나 차이가 날까?\n",
    "cel['Close'].diff()"
   ]
  },
  {
   "cell_type": "code",
   "execution_count": 31,
   "id": "75d7bb71",
   "metadata": {},
   "outputs": [
    {
     "data": {
      "text/plain": [
       "Date\n",
       "2010-01-04         NaN\n",
       "2010-01-05    0.016069\n",
       "2010-01-06    0.023114\n",
       "2010-01-07   -0.033294\n",
       "2010-01-08    0.009840\n",
       "                ...   \n",
       "2021-07-01   -0.007435\n",
       "2021-07-02   -0.001248\n",
       "2021-07-05    0.005000\n",
       "2021-07-06    0.009950\n",
       "2021-07-07   -0.004926\n",
       "Name: Close, Length: 2836, dtype: float64"
      ]
     },
     "execution_count": 31,
     "metadata": {},
     "output_type": "execute_result"
    }
   ],
   "source": [
    "# 이전보다 몇 퍼센트 정도 등락했는지 확인 (-1 ~ 0 ~ 1)\n",
    "cel['Close'].pct_change()"
   ]
  },
  {
   "cell_type": "code",
   "execution_count": 34,
   "id": "ca38e553",
   "metadata": {},
   "outputs": [
    {
     "name": "stdout",
     "output_type": "stream",
     "text": [
      "-3000.0\n",
      "5900.0\n"
     ]
    }
   ],
   "source": [
    "# diff에 대한 시각화\n",
    "a1 = cel['Close'].diff()\n",
    "a1\n",
    "\n",
    "# 최소, 최대값\n",
    "a1_min = a1.min()\n",
    "a1_max = a1.max()\n",
    "print(a1_min)\n",
    "print(a1_max)"
   ]
  },
  {
   "cell_type": "code",
   "execution_count": 46,
   "id": "afc229a0",
   "metadata": {},
   "outputs": [
    {
     "data": {
      "image/png": "[encoded data removed]",
      "text/plain": [
       "<Figure size 864x432 with 1 Axes>"
      ]
     },
     "metadata": {
      "needs_background": "light"
     },
     "output_type": "display_data"
    }
   ],
   "source": [
    "# 막대 그래프를 그리고, 반환으로 막대를 관리할 수 있는 객체를 받는다\n",
    "bar_list = plt.bar(a1.index, a1.values)\n",
    "# print(bar_list)\n",
    "\n",
    "# 값이 0 보다 크면 빨간색, 작으면 파란색으로 설정\n",
    "for idx, value in enumerate(a1.values):\n",
    "    if value > 0 :\n",
    "        bar_list[idx].set_color('r')\n",
    "    elif value < 0:\n",
    "        bar_list[idx].set_color('b')\n",
    "\n",
    "plt.ylim(-6000, 6000)\n",
    "plt.show()"
   ]
  },
  {
   "cell_type": "code",
   "execution_count": 49,
   "id": "7cb1b69a",
   "metadata": {},
   "outputs": [
    {
     "data": {
      "text/plain": [
       "Series([], Name: Close, dtype: float64)"
      ]
     },
     "execution_count": 49,
     "metadata": {},
     "output_type": "execute_result"
    }
   ],
   "source": [
    "a1[abs(a1.values) < 0]"
   ]
  },
  {
   "cell_type": "code",
   "execution_count": 50,
   "id": "deeca01b",
   "metadata": {},
   "outputs": [
    {
     "data": {
      "image/png": "[encoded data removed]",
      "text/plain": [
       "<Figure size 864x432 with 1 Axes>"
      ]
     },
     "metadata": {
      "needs_background": "light"
     },
     "output_type": "display_data"
    }
   ],
   "source": [
    "# 막대 그래프를 그리고, 반환으로 막대를 관리할 수 있는 객체를 받는다\n",
    "bar_list = plt.bar(a1.index, abs(a1.values))\n",
    "# print(bar_list)\n",
    "\n",
    "# 값이 0 보다 크면 빨간색, 작으면 파란색으로 설정\n",
    "for idx, value in enumerate(a1.values):\n",
    "    if value > 0 :\n",
    "        bar_list[idx].set_color('r')\n",
    "    elif value < 0:\n",
    "        bar_list[idx].set_color('b')\n",
    "\n",
    "plt.show()"
   ]
  },
  {
   "cell_type": "code",
   "execution_count": 51,
   "id": "ff25a889",
   "metadata": {},
   "outputs": [
    {
     "data": {
      "text/plain": [
       "Date\n",
       "2010-01-04         NaN\n",
       "2010-01-05    0.016069\n",
       "2010-01-06    0.023114\n",
       "2010-01-07   -0.033294\n",
       "2010-01-08    0.009840\n",
       "                ...   \n",
       "2021-07-01   -0.007435\n",
       "2021-07-02   -0.001248\n",
       "2021-07-05    0.005000\n",
       "2021-07-06    0.009950\n",
       "2021-07-07   -0.004926\n",
       "Name: Close, Length: 2836, dtype: float64"
      ]
     },
     "execution_count": 51,
     "metadata": {},
     "output_type": "execute_result"
    }
   ],
   "source": [
    "# 몇 % 등락\n",
    "a1 = cel['Close'].pct_change()\n",
    "a1 = a1 * 100"
   ]
  },
  {
   "cell_type": "code",
   "execution_count": 52,
   "id": "f66ba9bd",
   "metadata": {},
   "outputs": [
    {
     "data": {
      "image/png": "[encoded data removed]",
      "text/plain": [
       "<Figure size 864x432 with 1 Axes>"
      ]
     },
     "metadata": {
      "needs_background": "light"
     },
     "output_type": "display_data"
    }
   ],
   "source": [
    "# 막대 그래프를 그리고, 반환으로 막대를 관리할 수 있는 객체를 받는다\n",
    "bar_list = plt.bar(a1.index, a1.values)\n",
    "# print(bar_list)\n",
    "\n",
    "# 값이 0 보다 크면 빨간색, 작으면 파란색으로 설정\n",
    "for idx, value in enumerate(a1.values):\n",
    "    if value > 0 :\n",
    "        bar_list[idx].set_color('r')\n",
    "    elif value < 0:\n",
    "        bar_list[idx].set_color('b')\n",
    "\n",
    "plt.show()"
   ]
  },
  {
   "cell_type": "code",
   "execution_count": 53,
   "id": "9c99cf57",
   "metadata": {},
   "outputs": [
    {
     "data": {
      "image/png": "[encoded data removed]",
      "text/plain": [
       "<Figure size 864x432 with 1 Axes>"
      ]
     },
     "metadata": {
      "needs_background": "light"
     },
     "output_type": "display_data"
    }
   ],
   "source": [
    "# 막대 그래프를 그리고, 반환으로 막대를 관리할 수 있는 객체를 받는다\n",
    "bar_list = plt.bar(a1.index, abs(a1.values))\n",
    "# print(bar_list)\n",
    "\n",
    "# 값이 0 보다 크면 빨간색, 작으면 파란색으로 설정\n",
    "for idx, value in enumerate(a1.values):\n",
    "    if value > 0 :\n",
    "        bar_list[idx].set_color('r')\n",
    "    elif value < 0:\n",
    "        bar_list[idx].set_color('b')\n",
    "\n",
    "plt.show()"
   ]
  },
  {
   "cell_type": "markdown",
   "id": "5eb8eabc",
   "metadata": {},
   "source": [
    "### 종가 시각화\n",
    "- 하위 10% 이하, 상위 90% 이상을 다른 색상으로 표현\n",
    "- 10%지점, 90%지점에 먼저 기순선을 표시\n",
    "- x축은 일자, y축은 종가로 표시"
   ]
  },
  {
   "cell_type": "code",
   "execution_count": 54,
   "id": "f5c8d7ec",
   "metadata": {},
   "outputs": [
    {
     "data": {
      "text/plain": [
       "Date\n",
       "2010-01-04    16180.0\n",
       "2010-01-05    16440.0\n",
       "2010-01-06    16820.0\n",
       "2010-01-07    16260.0\n",
       "2010-01-08    16420.0\n",
       "               ...   \n",
       "2021-07-01    80100.0\n",
       "2021-07-02    80000.0\n",
       "2021-07-05    80400.0\n",
       "2021-07-06    81200.0\n",
       "2021-07-07    80800.0\n",
       "Name: Close, Length: 2836, dtype: float64"
      ]
     },
     "execution_count": 54,
     "metadata": {},
     "output_type": "execute_result"
    }
   ],
   "source": [
    "# 종가\n",
    "cel_close = cel['Close']\n",
    "cel_close"
   ]
  },
  {
   "cell_type": "code",
   "execution_count": 56,
   "id": "7da93cd6",
   "metadata": {
    "scrolled": false
   },
   "outputs": [
    {
     "data": {
      "image/png": "[encoded data removed]",
      "text/plain": [
       "<Figure size 864x432 with 1 Axes>"
      ]
     },
     "metadata": {
      "needs_background": "light"
     },
     "output_type": "display_data"
    }
   ],
   "source": [
    "# 시각화\n",
    "# DataFrame이나 Series로 선 그래프를 그리면 x축이 날짜, 값이 y축 \n",
    "cel_close.plot(color='black')\n",
    "plt.show()"
   ]
  },
  {
   "cell_type": "markdown",
   "id": "85c24599",
   "metadata": {},
   "source": [
    "### 특정 범위를 벗어나는 그래프의 색을 다르게 표시\n",
    "- 10%, 90% "
   ]
  },
  {
   "cell_type": "code",
   "execution_count": 59,
   "id": "b2f83168",
   "metadata": {},
   "outputs": [
    {
     "name": "stdout",
     "output_type": "stream",
     "text": [
      "17000.0\n",
      "55800.0\n"
     ]
    }
   ],
   "source": [
    "# 10%, 90% 위치 값 계산\n",
    "value_10 = cel_close.quantile(0.1)\n",
    "value_90 = cel_close.quantile(0.9)\n",
    "\n",
    "print(value_10)\n",
    "print(value_90)"
   ]
  },
  {
   "cell_type": "code",
   "execution_count": 61,
   "id": "606c4a40",
   "metadata": {},
   "outputs": [
    {
     "name": "stdout",
     "output_type": "stream",
     "text": [
      "17000.0\n",
      "55800.0\n"
     ]
    }
   ],
   "source": [
    "# 요약 통계 정보\n",
    "a1 = cel_close.describe(percentiles=[0.1, 0.9])\n",
    "\n",
    "value_10 = a1['10%']\n",
    "value_90 = a1['90%']\n",
    "\n",
    "print(value_10)\n",
    "print(value_90)"
   ]
  },
  {
   "cell_type": "code",
   "execution_count": 62,
   "id": "3ddc50d7",
   "metadata": {},
   "outputs": [
    {
     "data": {
      "text/plain": [
       "Date\n",
       "2010-01-04     True\n",
       "2010-01-05     True\n",
       "2010-01-06     True\n",
       "2010-01-07     True\n",
       "2010-01-08     True\n",
       "              ...  \n",
       "2021-07-01    False\n",
       "2021-07-02    False\n",
       "2021-07-05    False\n",
       "2021-07-06    False\n",
       "2021-07-07    False\n",
       "Name: Close, Length: 2836, dtype: bool"
      ]
     },
     "execution_count": 62,
     "metadata": {},
     "output_type": "execute_result"
    }
   ],
   "source": [
    "# 10% 이하의 값들\n",
    "a2 = cel_close <= value_10\n",
    "a2"
   ]
  },
  {
   "cell_type": "code",
   "execution_count": 63,
   "id": "26e95fbe",
   "metadata": {},
   "outputs": [
    {
     "data": {
      "text/plain": [
       "Date\n",
       "2010-01-04    False\n",
       "2010-01-05    False\n",
       "2010-01-06    False\n",
       "2010-01-07    False\n",
       "2010-01-08    False\n",
       "              ...  \n",
       "2021-07-01     True\n",
       "2021-07-02     True\n",
       "2021-07-05     True\n",
       "2021-07-06     True\n",
       "2021-07-07     True\n",
       "Name: Close, Length: 2836, dtype: bool"
      ]
     },
     "execution_count": 63,
     "metadata": {},
     "output_type": "execute_result"
    }
   ],
   "source": [
    "# 90% 이상\n",
    "a3 = cel_close >= value_90\n",
    "a3"
   ]
  },
  {
   "cell_type": "code",
   "execution_count": 64,
   "id": "b1855a77",
   "metadata": {},
   "outputs": [
    {
     "data": {
      "text/plain": [
       "Date\n",
       "2010-01-04    True\n",
       "2010-01-05    True\n",
       "2010-01-06    True\n",
       "2010-01-07    True\n",
       "2010-01-08    True\n",
       "              ... \n",
       "2021-07-01    True\n",
       "2021-07-02    True\n",
       "2021-07-05    True\n",
       "2021-07-06    True\n",
       "2021-07-07    True\n",
       "Name: Close, Length: 2836, dtype: bool"
      ]
     },
     "execution_count": 64,
     "metadata": {},
     "output_type": "execute_result"
    }
   ],
   "source": [
    "# 둘 합치기\n",
    "a4 = a2 | a3\n",
    "a4"
   ]
  },
  {
   "cell_type": "code",
   "execution_count": 65,
   "id": "97db1f85",
   "metadata": {},
   "outputs": [
    {
     "data": {
      "text/plain": [
       "Date\n",
       "2010-01-04    16180.0\n",
       "2010-01-05    16440.0\n",
       "2010-01-06    16820.0\n",
       "2010-01-07    16260.0\n",
       "2010-01-08    16420.0\n",
       "               ...   \n",
       "2021-07-01    80100.0\n",
       "2021-07-02    80000.0\n",
       "2021-07-05    80400.0\n",
       "2021-07-06    81200.0\n",
       "2021-07-07    80800.0\n",
       "Name: Close, Length: 571, dtype: float64"
      ]
     },
     "execution_count": 65,
     "metadata": {},
     "output_type": "execute_result"
    }
   ],
   "source": [
    "# 10% 이하, 90% 이상\n",
    "cel_top_bottom = cel_close[a4]\n",
    "cel_top_bottom "
   ]
  },
  {
   "cell_type": "code",
   "execution_count": 72,
   "id": "c2440052",
   "metadata": {},
   "outputs": [
    {
     "data": {
      "image/png": "[encoded data removed]",
      "text/plain": [
       "<Figure size 864x432 with 1 Axes>"
      ]
     },
     "metadata": {
      "needs_background": "light"
     },
     "output_type": "display_data"
    }
   ],
   "source": [
    "# 시각화\n",
    "# style : 선의 모양, ' '을 주면 선의 모양은 빈칸이 된다\n",
    "# marker : 마커의 모양\n",
    "# ms : 마커의 크기\n",
    "# color : 색상\n",
    "cel_top_bottom.plot(style=' ', marker='o', ms=4, color='darkgray')\n",
    "plt.show()"
   ]
  },
  {
   "cell_type": "markdown",
   "id": "d32dfc3c",
   "metadata": {},
   "source": [
    "### 기준선 그리기"
   ]
  },
  {
   "cell_type": "code",
   "execution_count": 73,
   "id": "43839869",
   "metadata": {},
   "outputs": [
    {
     "name": "stdout",
     "output_type": "stream",
     "text": [
      "2010-01-04 00:00:00\n",
      "2021-07-07 00:00:00\n"
     ]
    }
   ],
   "source": [
    "# x축의 좌표로 사용할 최소 날짜와 최대 날짜를 추출\n",
    "index_min = cel_close.index[0]\n",
    "index_max = cel_close.index[-1]\n",
    "\n",
    "print(index_min)\n",
    "print(index_max)"
   ]
  },
  {
   "cell_type": "code",
   "execution_count": 74,
   "id": "2e2c3404",
   "metadata": {},
   "outputs": [
    {
     "data": {
      "image/png": "[encoded data removed]",
      "text/plain": [
       "<Figure size 864x432 with 1 Axes>"
      ]
     },
     "metadata": {
      "needs_background": "light"
     },
     "output_type": "display_data"
    }
   ],
   "source": [
    "# 가로선 그리기\n",
    "plt.hlines(xmin=index_min, xmax=index_max, y=[value_10, value_90], color='red')\n",
    "plt.show()"
   ]
  },
  {
   "cell_type": "markdown",
   "id": "f71ca210",
   "metadata": {},
   "source": [
    "### 3가지 합치기"
   ]
  },
  {
   "cell_type": "code",
   "execution_count": 77,
   "id": "9e5482da",
   "metadata": {},
   "outputs": [
    {
     "data": {
      "image/png": "[encoded data removed]",
      "text/plain": [
       "<Figure size 864x432 with 1 Axes>"
      ]
     },
     "metadata": {
      "needs_background": "light"
     },
     "output_type": "display_data"
    }
   ],
   "source": [
    "cel_close.plot(color='black')\n",
    "\n",
    "cel_top_bottom.plot(style=' ', marker='o', ms=4, color='darkgray')\n",
    "\n",
    "plt.hlines(xmin=index_min, xmax=index_max, y=[value_10, value_90], color='red')\n",
    "\n",
    "plt.show()"
   ]
  },
  {
   "cell_type": "markdown",
   "id": "2d54dc8b",
   "metadata": {},
   "source": [
    "### 통계량 살펴보기"
   ]
  },
  {
   "cell_type": "code",
   "execution_count": 78,
   "id": "fd47391d",
   "metadata": {},
   "outputs": [
    {
     "data": {
      "text/plain": [
       "Date\n",
       "2010-01-04         NaN\n",
       "2010-01-05    0.016069\n",
       "2010-01-06    0.023114\n",
       "2010-01-07   -0.033294\n",
       "2010-01-08    0.009840\n",
       "                ...   \n",
       "2021-07-01   -0.007435\n",
       "2021-07-02   -0.001248\n",
       "2021-07-05    0.005000\n",
       "2021-07-06    0.009950\n",
       "2021-07-07   -0.004926\n",
       "Name: Close, Length: 2836, dtype: float64"
      ]
     },
     "execution_count": 78,
     "metadata": {},
     "output_type": "execute_result"
    }
   ],
   "source": [
    "# 각 날짜의 수익률 확인\n",
    "cel_pct_change = cel['Close'].pct_change()\n",
    "cel_pct_change"
   ]
  },
  {
   "cell_type": "code",
   "execution_count": 79,
   "id": "f7e8bd5c",
   "metadata": {},
   "outputs": [
    {
     "data": {
      "image/png": "[encoded data removed]",
      "text/plain": [
       "<Figure size 864x432 with 1 Axes>"
      ]
     },
     "metadata": {
      "needs_background": "light"
     },
     "output_type": "display_data"
    }
   ],
   "source": [
    "cel_pct_change.hist(bins=30)\n",
    "plt.show()"
   ]
  },
  {
   "cell_type": "markdown",
   "id": "9344a68d",
   "metadata": {},
   "source": [
    "### 첨도(Kurtosis)\n",
    "- 첨도는 히스토그램에서 분포의 꼬리부분의 길이와 중앙의 뾰족함에 대한 정보를 제공하는 통계량\n",
    "- 첨도가 0 보다 크면 긴 꼬리를 갖고, 분포가 중앙에 덜 분포 되어 있는 것으로 해석"
   ]
  },
  {
   "cell_type": "code",
   "execution_count": 80,
   "id": "80f6481d",
   "metadata": {},
   "outputs": [
    {
     "data": {
      "text/plain": [
       "1.6307384693281213"
      ]
     },
     "execution_count": 80,
     "metadata": {},
     "output_type": "execute_result"
    }
   ],
   "source": [
    "cel_pct_change.kurt()"
   ]
  },
  {
   "cell_type": "markdown",
   "id": "9cf70536",
   "metadata": {},
   "source": [
    "### 왜도\n",
    "- 분포의 비대칭 정도를 나타내는 값\n",
    "- 분포가 완전 대칭인 경우에는 왜도가 0\n",
    "- 왼쪽으로 긴 꼬리를 가지면 음수\n",
    "- 오른쪽으로 긴 꼬리를 가지면 양수\n",
    "- 비대칭 정도가 심할수록 왜도의 절대값이 증가"
   ]
  },
  {
   "cell_type": "code",
   "execution_count": 81,
   "id": "1bcc9391",
   "metadata": {},
   "outputs": [
    {
     "data": {
      "text/plain": [
       "0.17778685925311755"
      ]
     },
     "execution_count": 81,
     "metadata": {},
     "output_type": "execute_result"
    }
   ],
   "source": [
    "cel_pct_change.skew()"
   ]
  },
  {
   "cell_type": "code",
   "execution_count": null,
   "id": "57eecb13",
   "metadata": {},
   "outputs": [],
   "source": []
  }
 ],
 "metadata": {
  "kernelspec": {
   "display_name": "Python 3",
   "language": "python",
   "name": "python3"
  },
  "language_info": {
   "codemirror_mode": {
    "name": "ipython",
    "version": 3
   },
   "file_extension": ".py",
   "mimetype": "text/x-python",
   "name": "python",
   "nbconvert_exporter": "python",
   "pygments_lexer": "ipython3",
   "version": "3.8.8"
  }
 },
 "nbformat": 4,
 "nbformat_minor": 5
}
