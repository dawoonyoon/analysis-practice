{
 "cells": [
  {
   "cell_type": "code",
   "execution_count": 1,
   "id": "fd925ee5",
   "metadata": {},
   "outputs": [],
   "source": [
    "import pandas as pd\n",
    "import numpy as np\n",
    "import matplotlib.pyplot as plt\n",
    "import seaborn as sns\n",
    "\n",
    "# 불필요한 경고 메세지를 나오지 않도록\n",
    "import warnings\n",
    "warnings.filterwarnings('ignore')\n",
    "\n",
    "# Seaborn에서 제공하는 그래프 테마\n",
    "# sns.set_style(\"ticks\")\n",
    "# sns.set_style(\"darkgrid\")\n",
    "# sns.set_style(\"whitegrid\")\n",
    "\n",
    "plt.rcParams['font.family'] = 'Malgun Gothic'\n",
    "plt.rcParams['figure.figsize'] = 12, 6\n",
    "plt.rcParams['font.size'] = 14\n",
    "plt.rcParams['axes.unicode_minus'] = False"
   ]
  },
  {
   "cell_type": "markdown",
   "id": "5b8a2dc3",
   "metadata": {},
   "source": [
    "### 각 팀별 승률 확인"
   ]
  },
  {
   "cell_type": "code",
   "execution_count": 2,
   "id": "629c6822",
   "metadata": {},
   "outputs": [
    {
     "data": {
      "text/html": [
       "<div>\n",
       "<style scoped>\n",
       "    .dataframe tbody tr th:only-of-type {\n",
       "        vertical-align: middle;\n",
       "    }\n",
       "\n",
       "    .dataframe tbody tr th {\n",
       "        vertical-align: top;\n",
       "    }\n",
       "\n",
       "    .dataframe thead th {\n",
       "        text-align: right;\n",
       "    }\n",
       "</style>\n",
       "<table border=\"1\" class=\"dataframe\">\n",
       "  <thead>\n",
       "    <tr style=\"text-align: right;\">\n",
       "      <th></th>\n",
       "      <th>경기날짜</th>\n",
       "      <th>팀1 이름</th>\n",
       "      <th>팀2 이름</th>\n",
       "      <th>팀1 점수</th>\n",
       "      <th>팀2 점수</th>\n",
       "      <th>팀1 투수</th>\n",
       "      <th>팀2 투수</th>\n",
       "    </tr>\n",
       "  </thead>\n",
       "  <tbody>\n",
       "    <tr>\n",
       "      <th>0</th>\n",
       "      <td>20080329</td>\n",
       "      <td>롯데</td>\n",
       "      <td>한화</td>\n",
       "      <td>11</td>\n",
       "      <td>1</td>\n",
       "      <td>NaN</td>\n",
       "      <td>NaN</td>\n",
       "    </tr>\n",
       "    <tr>\n",
       "      <th>1</th>\n",
       "      <td>20080329</td>\n",
       "      <td>LG</td>\n",
       "      <td>SK</td>\n",
       "      <td>4</td>\n",
       "      <td>5</td>\n",
       "      <td>NaN</td>\n",
       "      <td>NaN</td>\n",
       "    </tr>\n",
       "    <tr>\n",
       "      <th>2</th>\n",
       "      <td>20080329</td>\n",
       "      <td>KIA</td>\n",
       "      <td>삼성</td>\n",
       "      <td>3</td>\n",
       "      <td>4</td>\n",
       "      <td>NaN</td>\n",
       "      <td>NaN</td>\n",
       "    </tr>\n",
       "    <tr>\n",
       "      <th>3</th>\n",
       "      <td>20080329</td>\n",
       "      <td>롯데</td>\n",
       "      <td>한화</td>\n",
       "      <td>11</td>\n",
       "      <td>1</td>\n",
       "      <td>NaN</td>\n",
       "      <td>NaN</td>\n",
       "    </tr>\n",
       "    <tr>\n",
       "      <th>4</th>\n",
       "      <td>20080329</td>\n",
       "      <td>LG</td>\n",
       "      <td>SK</td>\n",
       "      <td>4</td>\n",
       "      <td>5</td>\n",
       "      <td>NaN</td>\n",
       "      <td>NaN</td>\n",
       "    </tr>\n",
       "    <tr>\n",
       "      <th>...</th>\n",
       "      <td>...</td>\n",
       "      <td>...</td>\n",
       "      <td>...</td>\n",
       "      <td>...</td>\n",
       "      <td>...</td>\n",
       "      <td>...</td>\n",
       "      <td>...</td>\n",
       "    </tr>\n",
       "    <tr>\n",
       "      <th>8744</th>\n",
       "      <td>20201118</td>\n",
       "      <td>두산</td>\n",
       "      <td>NC</td>\n",
       "      <td>5</td>\n",
       "      <td>4</td>\n",
       "      <td>플렉센</td>\n",
       "      <td>구창모</td>\n",
       "    </tr>\n",
       "    <tr>\n",
       "      <th>8745</th>\n",
       "      <td>20201120</td>\n",
       "      <td>NC</td>\n",
       "      <td>두산</td>\n",
       "      <td>6</td>\n",
       "      <td>7</td>\n",
       "      <td>임정호</td>\n",
       "      <td>박치국</td>\n",
       "    </tr>\n",
       "    <tr>\n",
       "      <th>8746</th>\n",
       "      <td>20201121</td>\n",
       "      <td>NC</td>\n",
       "      <td>두산</td>\n",
       "      <td>3</td>\n",
       "      <td>0</td>\n",
       "      <td>송명기</td>\n",
       "      <td>김민규</td>\n",
       "    </tr>\n",
       "    <tr>\n",
       "      <th>8747</th>\n",
       "      <td>20201123</td>\n",
       "      <td>두산</td>\n",
       "      <td>NC</td>\n",
       "      <td>0</td>\n",
       "      <td>5</td>\n",
       "      <td>플렉센</td>\n",
       "      <td>구창모</td>\n",
       "    </tr>\n",
       "    <tr>\n",
       "      <th>8748</th>\n",
       "      <td>20201124</td>\n",
       "      <td>두산</td>\n",
       "      <td>NC</td>\n",
       "      <td>2</td>\n",
       "      <td>4</td>\n",
       "      <td>알칸타라</td>\n",
       "      <td>루친스키</td>\n",
       "    </tr>\n",
       "  </tbody>\n",
       "</table>\n",
       "<p>8749 rows × 7 columns</p>\n",
       "</div>"
      ],
      "text/plain": [
       "          경기날짜 팀1 이름 팀2 이름  팀1 점수  팀2 점수 팀1 투수 팀2 투수\n",
       "0     20080329    롯데    한화     11      1   NaN   NaN\n",
       "1     20080329    LG    SK      4      5   NaN   NaN\n",
       "2     20080329   KIA    삼성      3      4   NaN   NaN\n",
       "3     20080329    롯데    한화     11      1   NaN   NaN\n",
       "4     20080329    LG    SK      4      5   NaN   NaN\n",
       "...        ...   ...   ...    ...    ...   ...   ...\n",
       "8744  20201118    두산    NC      5      4   플렉센   구창모\n",
       "8745  20201120    NC    두산      6      7   임정호   박치국\n",
       "8746  20201121    NC    두산      3      0   송명기   김민규\n",
       "8747  20201123    두산    NC      0      5   플렉센   구창모\n",
       "8748  20201124    두산    NC      2      4  알칸타라  루친스키\n",
       "\n",
       "[8749 rows x 7 columns]"
      ]
     },
     "execution_count": 2,
     "metadata": {},
     "output_type": "execute_result"
    }
   ],
   "source": [
    "# 데이터 로드 \n",
    "df1 = pd.read_csv('data/baseball2.csv')\n",
    "df1"
   ]
  },
  {
   "cell_type": "code",
   "execution_count": 3,
   "id": "2c69b771",
   "metadata": {},
   "outputs": [
    {
     "data": {
      "text/html": [
       "<div>\n",
       "<style scoped>\n",
       "    .dataframe tbody tr th:only-of-type {\n",
       "        vertical-align: middle;\n",
       "    }\n",
       "\n",
       "    .dataframe tbody tr th {\n",
       "        vertical-align: top;\n",
       "    }\n",
       "\n",
       "    .dataframe thead th {\n",
       "        text-align: right;\n",
       "    }\n",
       "</style>\n",
       "<table border=\"1\" class=\"dataframe\">\n",
       "  <thead>\n",
       "    <tr style=\"text-align: right;\">\n",
       "      <th></th>\n",
       "      <th>경기날짜</th>\n",
       "      <th>팀1 이름</th>\n",
       "      <th>팀2 이름</th>\n",
       "      <th>팀1 점수</th>\n",
       "      <th>팀2 점수</th>\n",
       "    </tr>\n",
       "  </thead>\n",
       "  <tbody>\n",
       "    <tr>\n",
       "      <th>0</th>\n",
       "      <td>20080329</td>\n",
       "      <td>롯데</td>\n",
       "      <td>한화</td>\n",
       "      <td>11</td>\n",
       "      <td>1</td>\n",
       "    </tr>\n",
       "    <tr>\n",
       "      <th>1</th>\n",
       "      <td>20080329</td>\n",
       "      <td>LG</td>\n",
       "      <td>SK</td>\n",
       "      <td>4</td>\n",
       "      <td>5</td>\n",
       "    </tr>\n",
       "    <tr>\n",
       "      <th>2</th>\n",
       "      <td>20080329</td>\n",
       "      <td>KIA</td>\n",
       "      <td>삼성</td>\n",
       "      <td>3</td>\n",
       "      <td>4</td>\n",
       "    </tr>\n",
       "    <tr>\n",
       "      <th>3</th>\n",
       "      <td>20080329</td>\n",
       "      <td>롯데</td>\n",
       "      <td>한화</td>\n",
       "      <td>11</td>\n",
       "      <td>1</td>\n",
       "    </tr>\n",
       "    <tr>\n",
       "      <th>4</th>\n",
       "      <td>20080329</td>\n",
       "      <td>LG</td>\n",
       "      <td>SK</td>\n",
       "      <td>4</td>\n",
       "      <td>5</td>\n",
       "    </tr>\n",
       "    <tr>\n",
       "      <th>...</th>\n",
       "      <td>...</td>\n",
       "      <td>...</td>\n",
       "      <td>...</td>\n",
       "      <td>...</td>\n",
       "      <td>...</td>\n",
       "    </tr>\n",
       "    <tr>\n",
       "      <th>8744</th>\n",
       "      <td>20201118</td>\n",
       "      <td>두산</td>\n",
       "      <td>NC</td>\n",
       "      <td>5</td>\n",
       "      <td>4</td>\n",
       "    </tr>\n",
       "    <tr>\n",
       "      <th>8745</th>\n",
       "      <td>20201120</td>\n",
       "      <td>NC</td>\n",
       "      <td>두산</td>\n",
       "      <td>6</td>\n",
       "      <td>7</td>\n",
       "    </tr>\n",
       "    <tr>\n",
       "      <th>8746</th>\n",
       "      <td>20201121</td>\n",
       "      <td>NC</td>\n",
       "      <td>두산</td>\n",
       "      <td>3</td>\n",
       "      <td>0</td>\n",
       "    </tr>\n",
       "    <tr>\n",
       "      <th>8747</th>\n",
       "      <td>20201123</td>\n",
       "      <td>두산</td>\n",
       "      <td>NC</td>\n",
       "      <td>0</td>\n",
       "      <td>5</td>\n",
       "    </tr>\n",
       "    <tr>\n",
       "      <th>8748</th>\n",
       "      <td>20201124</td>\n",
       "      <td>두산</td>\n",
       "      <td>NC</td>\n",
       "      <td>2</td>\n",
       "      <td>4</td>\n",
       "    </tr>\n",
       "  </tbody>\n",
       "</table>\n",
       "<p>8749 rows × 5 columns</p>\n",
       "</div>"
      ],
      "text/plain": [
       "          경기날짜 팀1 이름 팀2 이름  팀1 점수  팀2 점수\n",
       "0     20080329    롯데    한화     11      1\n",
       "1     20080329    LG    SK      4      5\n",
       "2     20080329   KIA    삼성      3      4\n",
       "3     20080329    롯데    한화     11      1\n",
       "4     20080329    LG    SK      4      5\n",
       "...        ...   ...   ...    ...    ...\n",
       "8744  20201118    두산    NC      5      4\n",
       "8745  20201120    NC    두산      6      7\n",
       "8746  20201121    NC    두산      3      0\n",
       "8747  20201123    두산    NC      0      5\n",
       "8748  20201124    두산    NC      2      4\n",
       "\n",
       "[8749 rows x 5 columns]"
      ]
     },
     "execution_count": 3,
     "metadata": {},
     "output_type": "execute_result"
    }
   ],
   "source": [
    "# 필요한 데이터만 가져오기\n",
    "df2 = df1[['경기날짜', '팀1 이름', '팀2 이름', '팀1 점수', '팀2 점수']]\n",
    "df2"
   ]
  },
  {
   "cell_type": "code",
   "execution_count": 4,
   "id": "71530381",
   "metadata": {},
   "outputs": [
    {
     "data": {
      "text/html": [
       "<div>\n",
       "<style scoped>\n",
       "    .dataframe tbody tr th:only-of-type {\n",
       "        vertical-align: middle;\n",
       "    }\n",
       "\n",
       "    .dataframe tbody tr th {\n",
       "        vertical-align: top;\n",
       "    }\n",
       "\n",
       "    .dataframe thead th {\n",
       "        text-align: right;\n",
       "    }\n",
       "</style>\n",
       "<table border=\"1\" class=\"dataframe\">\n",
       "  <thead>\n",
       "    <tr style=\"text-align: right;\">\n",
       "      <th></th>\n",
       "      <th>경기날짜</th>\n",
       "      <th>팀1 이름</th>\n",
       "      <th>팀2 이름</th>\n",
       "      <th>팀1 점수</th>\n",
       "      <th>팀2 점수</th>\n",
       "    </tr>\n",
       "  </thead>\n",
       "  <tbody>\n",
       "    <tr>\n",
       "      <th>0</th>\n",
       "      <td>20080329</td>\n",
       "      <td>롯데</td>\n",
       "      <td>한화</td>\n",
       "      <td>11</td>\n",
       "      <td>1</td>\n",
       "    </tr>\n",
       "    <tr>\n",
       "      <th>1</th>\n",
       "      <td>20080329</td>\n",
       "      <td>LG</td>\n",
       "      <td>SK</td>\n",
       "      <td>4</td>\n",
       "      <td>5</td>\n",
       "    </tr>\n",
       "    <tr>\n",
       "      <th>2</th>\n",
       "      <td>20080329</td>\n",
       "      <td>KIA</td>\n",
       "      <td>삼성</td>\n",
       "      <td>3</td>\n",
       "      <td>4</td>\n",
       "    </tr>\n",
       "    <tr>\n",
       "      <th>3</th>\n",
       "      <td>20080329</td>\n",
       "      <td>롯데</td>\n",
       "      <td>한화</td>\n",
       "      <td>11</td>\n",
       "      <td>1</td>\n",
       "    </tr>\n",
       "    <tr>\n",
       "      <th>4</th>\n",
       "      <td>20080329</td>\n",
       "      <td>LG</td>\n",
       "      <td>SK</td>\n",
       "      <td>4</td>\n",
       "      <td>5</td>\n",
       "    </tr>\n",
       "    <tr>\n",
       "      <th>...</th>\n",
       "      <td>...</td>\n",
       "      <td>...</td>\n",
       "      <td>...</td>\n",
       "      <td>...</td>\n",
       "      <td>...</td>\n",
       "    </tr>\n",
       "    <tr>\n",
       "      <th>8744</th>\n",
       "      <td>20201118</td>\n",
       "      <td>두산</td>\n",
       "      <td>NC</td>\n",
       "      <td>5</td>\n",
       "      <td>4</td>\n",
       "    </tr>\n",
       "    <tr>\n",
       "      <th>8745</th>\n",
       "      <td>20201120</td>\n",
       "      <td>NC</td>\n",
       "      <td>두산</td>\n",
       "      <td>6</td>\n",
       "      <td>7</td>\n",
       "    </tr>\n",
       "    <tr>\n",
       "      <th>8746</th>\n",
       "      <td>20201121</td>\n",
       "      <td>NC</td>\n",
       "      <td>두산</td>\n",
       "      <td>3</td>\n",
       "      <td>0</td>\n",
       "    </tr>\n",
       "    <tr>\n",
       "      <th>8747</th>\n",
       "      <td>20201123</td>\n",
       "      <td>두산</td>\n",
       "      <td>NC</td>\n",
       "      <td>0</td>\n",
       "      <td>5</td>\n",
       "    </tr>\n",
       "    <tr>\n",
       "      <th>8748</th>\n",
       "      <td>20201124</td>\n",
       "      <td>두산</td>\n",
       "      <td>NC</td>\n",
       "      <td>2</td>\n",
       "      <td>4</td>\n",
       "    </tr>\n",
       "  </tbody>\n",
       "</table>\n",
       "<p>8749 rows × 5 columns</p>\n",
       "</div>"
      ],
      "text/plain": [
       "          경기날짜 팀1 이름 팀2 이름  팀1 점수  팀2 점수\n",
       "0     20080329    롯데    한화     11      1\n",
       "1     20080329    LG    SK      4      5\n",
       "2     20080329   KIA    삼성      3      4\n",
       "3     20080329    롯데    한화     11      1\n",
       "4     20080329    LG    SK      4      5\n",
       "...        ...   ...   ...    ...    ...\n",
       "8744  20201118    두산    NC      5      4\n",
       "8745  20201120    NC    두산      6      7\n",
       "8746  20201121    NC    두산      3      0\n",
       "8747  20201123    두산    NC      0      5\n",
       "8748  20201124    두산    NC      2      4\n",
       "\n",
       "[8749 rows x 5 columns]"
      ]
     },
     "execution_count": 4,
     "metadata": {},
     "output_type": "execute_result"
    }
   ],
   "source": [
    "# DataFrame 복제\n",
    "df3 = df2.copy()\n",
    "df3"
   ]
  },
  {
   "cell_type": "code",
   "execution_count": 8,
   "id": "72dc59b1",
   "metadata": {},
   "outputs": [
    {
     "data": {
      "text/html": [
       "<div>\n",
       "<style scoped>\n",
       "    .dataframe tbody tr th:only-of-type {\n",
       "        vertical-align: middle;\n",
       "    }\n",
       "\n",
       "    .dataframe tbody tr th {\n",
       "        vertical-align: top;\n",
       "    }\n",
       "\n",
       "    .dataframe thead th {\n",
       "        text-align: right;\n",
       "    }\n",
       "</style>\n",
       "<table border=\"1\" class=\"dataframe\">\n",
       "  <thead>\n",
       "    <tr style=\"text-align: right;\">\n",
       "      <th></th>\n",
       "      <th>경기날짜</th>\n",
       "      <th>팀2 이름</th>\n",
       "      <th>팀1 이름</th>\n",
       "      <th>팀2 점수</th>\n",
       "      <th>팀1 점수</th>\n",
       "    </tr>\n",
       "  </thead>\n",
       "  <tbody>\n",
       "    <tr>\n",
       "      <th>0</th>\n",
       "      <td>20080329</td>\n",
       "      <td>롯데</td>\n",
       "      <td>한화</td>\n",
       "      <td>11</td>\n",
       "      <td>1</td>\n",
       "    </tr>\n",
       "    <tr>\n",
       "      <th>1</th>\n",
       "      <td>20080329</td>\n",
       "      <td>LG</td>\n",
       "      <td>SK</td>\n",
       "      <td>4</td>\n",
       "      <td>5</td>\n",
       "    </tr>\n",
       "    <tr>\n",
       "      <th>2</th>\n",
       "      <td>20080329</td>\n",
       "      <td>KIA</td>\n",
       "      <td>삼성</td>\n",
       "      <td>3</td>\n",
       "      <td>4</td>\n",
       "    </tr>\n",
       "    <tr>\n",
       "      <th>3</th>\n",
       "      <td>20080329</td>\n",
       "      <td>롯데</td>\n",
       "      <td>한화</td>\n",
       "      <td>11</td>\n",
       "      <td>1</td>\n",
       "    </tr>\n",
       "    <tr>\n",
       "      <th>4</th>\n",
       "      <td>20080329</td>\n",
       "      <td>LG</td>\n",
       "      <td>SK</td>\n",
       "      <td>4</td>\n",
       "      <td>5</td>\n",
       "    </tr>\n",
       "    <tr>\n",
       "      <th>...</th>\n",
       "      <td>...</td>\n",
       "      <td>...</td>\n",
       "      <td>...</td>\n",
       "      <td>...</td>\n",
       "      <td>...</td>\n",
       "    </tr>\n",
       "    <tr>\n",
       "      <th>8744</th>\n",
       "      <td>20201118</td>\n",
       "      <td>두산</td>\n",
       "      <td>NC</td>\n",
       "      <td>5</td>\n",
       "      <td>4</td>\n",
       "    </tr>\n",
       "    <tr>\n",
       "      <th>8745</th>\n",
       "      <td>20201120</td>\n",
       "      <td>NC</td>\n",
       "      <td>두산</td>\n",
       "      <td>6</td>\n",
       "      <td>7</td>\n",
       "    </tr>\n",
       "    <tr>\n",
       "      <th>8746</th>\n",
       "      <td>20201121</td>\n",
       "      <td>NC</td>\n",
       "      <td>두산</td>\n",
       "      <td>3</td>\n",
       "      <td>0</td>\n",
       "    </tr>\n",
       "    <tr>\n",
       "      <th>8747</th>\n",
       "      <td>20201123</td>\n",
       "      <td>두산</td>\n",
       "      <td>NC</td>\n",
       "      <td>0</td>\n",
       "      <td>5</td>\n",
       "    </tr>\n",
       "    <tr>\n",
       "      <th>8748</th>\n",
       "      <td>20201124</td>\n",
       "      <td>두산</td>\n",
       "      <td>NC</td>\n",
       "      <td>2</td>\n",
       "      <td>4</td>\n",
       "    </tr>\n",
       "  </tbody>\n",
       "</table>\n",
       "<p>8749 rows × 5 columns</p>\n",
       "</div>"
      ],
      "text/plain": [
       "          경기날짜 팀2 이름 팀1 이름  팀2 점수  팀1 점수\n",
       "0     20080329    롯데    한화     11      1\n",
       "1     20080329    LG    SK      4      5\n",
       "2     20080329   KIA    삼성      3      4\n",
       "3     20080329    롯데    한화     11      1\n",
       "4     20080329    LG    SK      4      5\n",
       "...        ...   ...   ...    ...    ...\n",
       "8744  20201118    두산    NC      5      4\n",
       "8745  20201120    NC    두산      6      7\n",
       "8746  20201121    NC    두산      3      0\n",
       "8747  20201123    두산    NC      0      5\n",
       "8748  20201124    두산    NC      2      4\n",
       "\n",
       "[8749 rows x 5 columns]"
      ]
     },
     "execution_count": 8,
     "metadata": {},
     "output_type": "execute_result"
    }
   ],
   "source": [
    "# 복제한 DataFrame 이름 변경\n",
    "df3.columns = ['경기날짜', '팀2 이름', '팀1 이름', '팀2 점수', '팀1 점수']\n",
    "df3"
   ]
  },
  {
   "cell_type": "code",
   "execution_count": 9,
   "id": "c3c2d2c7",
   "metadata": {},
   "outputs": [
    {
     "data": {
      "text/html": [
       "<div>\n",
       "<style scoped>\n",
       "    .dataframe tbody tr th:only-of-type {\n",
       "        vertical-align: middle;\n",
       "    }\n",
       "\n",
       "    .dataframe tbody tr th {\n",
       "        vertical-align: top;\n",
       "    }\n",
       "\n",
       "    .dataframe thead th {\n",
       "        text-align: right;\n",
       "    }\n",
       "</style>\n",
       "<table border=\"1\" class=\"dataframe\">\n",
       "  <thead>\n",
       "    <tr style=\"text-align: right;\">\n",
       "      <th></th>\n",
       "      <th>경기날짜</th>\n",
       "      <th>팀1 이름</th>\n",
       "      <th>팀2 이름</th>\n",
       "      <th>팀1 점수</th>\n",
       "      <th>팀2 점수</th>\n",
       "    </tr>\n",
       "  </thead>\n",
       "  <tbody>\n",
       "    <tr>\n",
       "      <th>0</th>\n",
       "      <td>20080329</td>\n",
       "      <td>롯데</td>\n",
       "      <td>한화</td>\n",
       "      <td>11</td>\n",
       "      <td>1</td>\n",
       "    </tr>\n",
       "    <tr>\n",
       "      <th>1</th>\n",
       "      <td>20080329</td>\n",
       "      <td>LG</td>\n",
       "      <td>SK</td>\n",
       "      <td>4</td>\n",
       "      <td>5</td>\n",
       "    </tr>\n",
       "    <tr>\n",
       "      <th>2</th>\n",
       "      <td>20080329</td>\n",
       "      <td>KIA</td>\n",
       "      <td>삼성</td>\n",
       "      <td>3</td>\n",
       "      <td>4</td>\n",
       "    </tr>\n",
       "    <tr>\n",
       "      <th>3</th>\n",
       "      <td>20080329</td>\n",
       "      <td>롯데</td>\n",
       "      <td>한화</td>\n",
       "      <td>11</td>\n",
       "      <td>1</td>\n",
       "    </tr>\n",
       "    <tr>\n",
       "      <th>4</th>\n",
       "      <td>20080329</td>\n",
       "      <td>LG</td>\n",
       "      <td>SK</td>\n",
       "      <td>4</td>\n",
       "      <td>5</td>\n",
       "    </tr>\n",
       "    <tr>\n",
       "      <th>...</th>\n",
       "      <td>...</td>\n",
       "      <td>...</td>\n",
       "      <td>...</td>\n",
       "      <td>...</td>\n",
       "      <td>...</td>\n",
       "    </tr>\n",
       "    <tr>\n",
       "      <th>17493</th>\n",
       "      <td>20201118</td>\n",
       "      <td>NC</td>\n",
       "      <td>두산</td>\n",
       "      <td>4</td>\n",
       "      <td>5</td>\n",
       "    </tr>\n",
       "    <tr>\n",
       "      <th>17494</th>\n",
       "      <td>20201120</td>\n",
       "      <td>두산</td>\n",
       "      <td>NC</td>\n",
       "      <td>7</td>\n",
       "      <td>6</td>\n",
       "    </tr>\n",
       "    <tr>\n",
       "      <th>17495</th>\n",
       "      <td>20201121</td>\n",
       "      <td>두산</td>\n",
       "      <td>NC</td>\n",
       "      <td>0</td>\n",
       "      <td>3</td>\n",
       "    </tr>\n",
       "    <tr>\n",
       "      <th>17496</th>\n",
       "      <td>20201123</td>\n",
       "      <td>NC</td>\n",
       "      <td>두산</td>\n",
       "      <td>5</td>\n",
       "      <td>0</td>\n",
       "    </tr>\n",
       "    <tr>\n",
       "      <th>17497</th>\n",
       "      <td>20201124</td>\n",
       "      <td>NC</td>\n",
       "      <td>두산</td>\n",
       "      <td>4</td>\n",
       "      <td>2</td>\n",
       "    </tr>\n",
       "  </tbody>\n",
       "</table>\n",
       "<p>17498 rows × 5 columns</p>\n",
       "</div>"
      ],
      "text/plain": [
       "           경기날짜 팀1 이름 팀2 이름  팀1 점수  팀2 점수\n",
       "0      20080329    롯데    한화     11      1\n",
       "1      20080329    LG    SK      4      5\n",
       "2      20080329   KIA    삼성      3      4\n",
       "3      20080329    롯데    한화     11      1\n",
       "4      20080329    LG    SK      4      5\n",
       "...         ...   ...   ...    ...    ...\n",
       "17493  20201118    NC    두산      4      5\n",
       "17494  20201120    두산    NC      7      6\n",
       "17495  20201121    두산    NC      0      3\n",
       "17496  20201123    NC    두산      5      0\n",
       "17497  20201124    NC    두산      4      2\n",
       "\n",
       "[17498 rows x 5 columns]"
      ]
     },
     "execution_count": 9,
     "metadata": {},
     "output_type": "execute_result"
    }
   ],
   "source": [
    "# 두 DataFrame 병합\n",
    "df4 = pd.concat([df2, df3])\n",
    "\n",
    "# index를 리셋. 기존의 index 제거 \n",
    "df4.reset_index(inplace=True, drop=True)\n",
    "df4"
   ]
  },
  {
   "cell_type": "code",
   "execution_count": 10,
   "id": "4e40f848",
   "metadata": {},
   "outputs": [
    {
     "data": {
      "text/html": [
       "<div>\n",
       "<style scoped>\n",
       "    .dataframe tbody tr th:only-of-type {\n",
       "        vertical-align: middle;\n",
       "    }\n",
       "\n",
       "    .dataframe tbody tr th {\n",
       "        vertical-align: top;\n",
       "    }\n",
       "\n",
       "    .dataframe thead th {\n",
       "        text-align: right;\n",
       "    }\n",
       "</style>\n",
       "<table border=\"1\" class=\"dataframe\">\n",
       "  <thead>\n",
       "    <tr style=\"text-align: right;\">\n",
       "      <th></th>\n",
       "      <th>play_date</th>\n",
       "      <th>team1</th>\n",
       "      <th>team2</th>\n",
       "      <th>score1</th>\n",
       "      <th>score2</th>\n",
       "    </tr>\n",
       "  </thead>\n",
       "  <tbody>\n",
       "    <tr>\n",
       "      <th>0</th>\n",
       "      <td>20080329</td>\n",
       "      <td>롯데</td>\n",
       "      <td>한화</td>\n",
       "      <td>11</td>\n",
       "      <td>1</td>\n",
       "    </tr>\n",
       "    <tr>\n",
       "      <th>1</th>\n",
       "      <td>20080329</td>\n",
       "      <td>LG</td>\n",
       "      <td>SK</td>\n",
       "      <td>4</td>\n",
       "      <td>5</td>\n",
       "    </tr>\n",
       "    <tr>\n",
       "      <th>2</th>\n",
       "      <td>20080329</td>\n",
       "      <td>KIA</td>\n",
       "      <td>삼성</td>\n",
       "      <td>3</td>\n",
       "      <td>4</td>\n",
       "    </tr>\n",
       "    <tr>\n",
       "      <th>3</th>\n",
       "      <td>20080329</td>\n",
       "      <td>롯데</td>\n",
       "      <td>한화</td>\n",
       "      <td>11</td>\n",
       "      <td>1</td>\n",
       "    </tr>\n",
       "    <tr>\n",
       "      <th>4</th>\n",
       "      <td>20080329</td>\n",
       "      <td>LG</td>\n",
       "      <td>SK</td>\n",
       "      <td>4</td>\n",
       "      <td>5</td>\n",
       "    </tr>\n",
       "    <tr>\n",
       "      <th>...</th>\n",
       "      <td>...</td>\n",
       "      <td>...</td>\n",
       "      <td>...</td>\n",
       "      <td>...</td>\n",
       "      <td>...</td>\n",
       "    </tr>\n",
       "    <tr>\n",
       "      <th>17493</th>\n",
       "      <td>20201118</td>\n",
       "      <td>NC</td>\n",
       "      <td>두산</td>\n",
       "      <td>4</td>\n",
       "      <td>5</td>\n",
       "    </tr>\n",
       "    <tr>\n",
       "      <th>17494</th>\n",
       "      <td>20201120</td>\n",
       "      <td>두산</td>\n",
       "      <td>NC</td>\n",
       "      <td>7</td>\n",
       "      <td>6</td>\n",
       "    </tr>\n",
       "    <tr>\n",
       "      <th>17495</th>\n",
       "      <td>20201121</td>\n",
       "      <td>두산</td>\n",
       "      <td>NC</td>\n",
       "      <td>0</td>\n",
       "      <td>3</td>\n",
       "    </tr>\n",
       "    <tr>\n",
       "      <th>17496</th>\n",
       "      <td>20201123</td>\n",
       "      <td>NC</td>\n",
       "      <td>두산</td>\n",
       "      <td>5</td>\n",
       "      <td>0</td>\n",
       "    </tr>\n",
       "    <tr>\n",
       "      <th>17497</th>\n",
       "      <td>20201124</td>\n",
       "      <td>NC</td>\n",
       "      <td>두산</td>\n",
       "      <td>4</td>\n",
       "      <td>2</td>\n",
       "    </tr>\n",
       "  </tbody>\n",
       "</table>\n",
       "<p>17498 rows × 5 columns</p>\n",
       "</div>"
      ],
      "text/plain": [
       "       play_date team1 team2  score1  score2\n",
       "0       20080329    롯데    한화      11       1\n",
       "1       20080329    LG    SK       4       5\n",
       "2       20080329   KIA    삼성       3       4\n",
       "3       20080329    롯데    한화      11       1\n",
       "4       20080329    LG    SK       4       5\n",
       "...          ...   ...   ...     ...     ...\n",
       "17493   20201118    NC    두산       4       5\n",
       "17494   20201120    두산    NC       7       6\n",
       "17495   20201121    두산    NC       0       3\n",
       "17496   20201123    NC    두산       5       0\n",
       "17497   20201124    NC    두산       4       2\n",
       "\n",
       "[17498 rows x 5 columns]"
      ]
     },
     "execution_count": 10,
     "metadata": {},
     "output_type": "execute_result"
    }
   ],
   "source": [
    "# column 이름에 띄어쓰기가 있다면 query함수를 쓸 수 없기 때문에 column 이름 변경 필요\n",
    "df4.columns = ['play_date', 'team1', 'team2', 'score1', 'score2']\n",
    "df4"
   ]
  },
  {
   "cell_type": "code",
   "execution_count": 11,
   "id": "ab912d6f",
   "metadata": {},
   "outputs": [
    {
     "data": {
      "text/html": [
       "<div>\n",
       "<style scoped>\n",
       "    .dataframe tbody tr th:only-of-type {\n",
       "        vertical-align: middle;\n",
       "    }\n",
       "\n",
       "    .dataframe tbody tr th {\n",
       "        vertical-align: top;\n",
       "    }\n",
       "\n",
       "    .dataframe thead th {\n",
       "        text-align: right;\n",
       "    }\n",
       "</style>\n",
       "<table border=\"1\" class=\"dataframe\">\n",
       "  <thead>\n",
       "    <tr style=\"text-align: right;\">\n",
       "      <th></th>\n",
       "      <th>play_date</th>\n",
       "      <th>team1</th>\n",
       "      <th>team2</th>\n",
       "      <th>score1</th>\n",
       "      <th>score2</th>\n",
       "      <th>result</th>\n",
       "    </tr>\n",
       "  </thead>\n",
       "  <tbody>\n",
       "    <tr>\n",
       "      <th>0</th>\n",
       "      <td>20080329</td>\n",
       "      <td>롯데</td>\n",
       "      <td>한화</td>\n",
       "      <td>11</td>\n",
       "      <td>1</td>\n",
       "      <td>0</td>\n",
       "    </tr>\n",
       "    <tr>\n",
       "      <th>1</th>\n",
       "      <td>20080329</td>\n",
       "      <td>LG</td>\n",
       "      <td>SK</td>\n",
       "      <td>4</td>\n",
       "      <td>5</td>\n",
       "      <td>0</td>\n",
       "    </tr>\n",
       "    <tr>\n",
       "      <th>2</th>\n",
       "      <td>20080329</td>\n",
       "      <td>KIA</td>\n",
       "      <td>삼성</td>\n",
       "      <td>3</td>\n",
       "      <td>4</td>\n",
       "      <td>0</td>\n",
       "    </tr>\n",
       "    <tr>\n",
       "      <th>3</th>\n",
       "      <td>20080329</td>\n",
       "      <td>롯데</td>\n",
       "      <td>한화</td>\n",
       "      <td>11</td>\n",
       "      <td>1</td>\n",
       "      <td>0</td>\n",
       "    </tr>\n",
       "    <tr>\n",
       "      <th>4</th>\n",
       "      <td>20080329</td>\n",
       "      <td>LG</td>\n",
       "      <td>SK</td>\n",
       "      <td>4</td>\n",
       "      <td>5</td>\n",
       "      <td>0</td>\n",
       "    </tr>\n",
       "    <tr>\n",
       "      <th>...</th>\n",
       "      <td>...</td>\n",
       "      <td>...</td>\n",
       "      <td>...</td>\n",
       "      <td>...</td>\n",
       "      <td>...</td>\n",
       "      <td>...</td>\n",
       "    </tr>\n",
       "    <tr>\n",
       "      <th>17493</th>\n",
       "      <td>20201118</td>\n",
       "      <td>NC</td>\n",
       "      <td>두산</td>\n",
       "      <td>4</td>\n",
       "      <td>5</td>\n",
       "      <td>0</td>\n",
       "    </tr>\n",
       "    <tr>\n",
       "      <th>17494</th>\n",
       "      <td>20201120</td>\n",
       "      <td>두산</td>\n",
       "      <td>NC</td>\n",
       "      <td>7</td>\n",
       "      <td>6</td>\n",
       "      <td>0</td>\n",
       "    </tr>\n",
       "    <tr>\n",
       "      <th>17495</th>\n",
       "      <td>20201121</td>\n",
       "      <td>두산</td>\n",
       "      <td>NC</td>\n",
       "      <td>0</td>\n",
       "      <td>3</td>\n",
       "      <td>0</td>\n",
       "    </tr>\n",
       "    <tr>\n",
       "      <th>17496</th>\n",
       "      <td>20201123</td>\n",
       "      <td>NC</td>\n",
       "      <td>두산</td>\n",
       "      <td>5</td>\n",
       "      <td>0</td>\n",
       "      <td>0</td>\n",
       "    </tr>\n",
       "    <tr>\n",
       "      <th>17497</th>\n",
       "      <td>20201124</td>\n",
       "      <td>NC</td>\n",
       "      <td>두산</td>\n",
       "      <td>4</td>\n",
       "      <td>2</td>\n",
       "      <td>0</td>\n",
       "    </tr>\n",
       "  </tbody>\n",
       "</table>\n",
       "<p>17498 rows × 6 columns</p>\n",
       "</div>"
      ],
      "text/plain": [
       "       play_date team1 team2  score1  score2  result\n",
       "0       20080329    롯데    한화      11       1       0\n",
       "1       20080329    LG    SK       4       5       0\n",
       "2       20080329   KIA    삼성       3       4       0\n",
       "3       20080329    롯데    한화      11       1       0\n",
       "4       20080329    LG    SK       4       5       0\n",
       "...          ...   ...   ...     ...     ...     ...\n",
       "17493   20201118    NC    두산       4       5       0\n",
       "17494   20201120    두산    NC       7       6       0\n",
       "17495   20201121    두산    NC       0       3       0\n",
       "17496   20201123    NC    두산       5       0       0\n",
       "17497   20201124    NC    두산       4       2       0\n",
       "\n",
       "[17498 rows x 6 columns]"
      ]
     },
     "execution_count": 11,
     "metadata": {},
     "output_type": "execute_result"
    }
   ],
   "source": [
    "# 경기 결과를 담을 column 추가\n",
    "df4['result'] = 0\n",
    "df4"
   ]
  },
  {
   "cell_type": "code",
   "execution_count": 12,
   "id": "a4c3666f",
   "metadata": {},
   "outputs": [
    {
     "data": {
      "text/plain": [
       "Int64Index([    0,     3,     6,     9,    11,    13,    14,    18,    19,\n",
       "               22,\n",
       "            ...\n",
       "            17482, 17483, 17484, 17485, 17486, 17491, 17492, 17494, 17496,\n",
       "            17497],\n",
       "           dtype='int64', length=8543)"
      ]
     },
     "execution_count": 12,
     "metadata": {},
     "output_type": "execute_result"
    }
   ],
   "source": [
    "# 승리한 경기의 index 가져오기\n",
    "win_idx = df4.query('score1 > score2').index\n",
    "win_idx"
   ]
  },
  {
   "cell_type": "code",
   "execution_count": 13,
   "id": "673472ab",
   "metadata": {},
   "outputs": [
    {
     "data": {
      "text/plain": [
       "0    8955\n",
       "1    8543\n",
       "Name: result, dtype: int64"
      ]
     },
     "execution_count": 13,
     "metadata": {},
     "output_type": "execute_result"
    }
   ],
   "source": [
    "# 승리한 팀의 결과를 1로 채우기 \n",
    "df4.loc[win_idx, 'result'] = 1\n",
    "df4['result'].value_counts()"
   ]
  },
  {
   "cell_type": "code",
   "execution_count": 14,
   "id": "0c397344",
   "metadata": {},
   "outputs": [
    {
     "data": {
      "text/plain": [
       "두산     1970\n",
       "SK     1935\n",
       "삼성     1917\n",
       "LG     1904\n",
       "롯데     1902\n",
       "KIA    1889\n",
       "한화     1879\n",
       "NC     1238\n",
       "넥센     1194\n",
       "키움      725\n",
       "kt      486\n",
       "KT      439\n",
       "드림        7\n",
       "나눔        7\n",
       "웨스턴       3\n",
       "이스턴       3\n",
       "Name: team1, dtype: int64"
      ]
     },
     "execution_count": 14,
     "metadata": {},
     "output_type": "execute_result"
    }
   ],
   "source": [
    "# 팀 이름 확인\n",
    "df4['team1'].value_counts()"
   ]
  },
  {
   "cell_type": "code",
   "execution_count": 16,
   "id": "cb1f0d31",
   "metadata": {},
   "outputs": [
    {
     "data": {
      "text/plain": [
       "두산     1970\n",
       "SK     1935\n",
       "삼성     1917\n",
       "LG     1904\n",
       "롯데     1902\n",
       "KIA    1889\n",
       "한화     1879\n",
       "NC     1238\n",
       "넥센     1194\n",
       "키움      725\n",
       "kt      486\n",
       "KT      439\n",
       "드림        7\n",
       "나눔        7\n",
       "웨스턴       3\n",
       "이스턴       3\n",
       "Name: team2, dtype: int64"
      ]
     },
     "execution_count": 16,
     "metadata": {},
     "output_type": "execute_result"
    }
   ],
   "source": [
    "df4['team2'].value_counts()"
   ]
  },
  {
   "cell_type": "code",
   "execution_count": 18,
   "id": "39b1133e",
   "metadata": {},
   "outputs": [
    {
     "data": {
      "text/plain": [
       "두산     1970\n",
       "SK     1935\n",
       "삼성     1917\n",
       "LG     1904\n",
       "롯데     1902\n",
       "KIA    1889\n",
       "한화     1879\n",
       "NC     1238\n",
       "넥센     1194\n",
       "키움      725\n",
       "kt      486\n",
       "KT      439\n",
       "Name: team1, dtype: int64"
      ]
     },
     "metadata": {},
     "output_type": "display_data"
    },
    {
     "data": {
      "text/plain": [
       "두산     1970\n",
       "SK     1935\n",
       "삼성     1917\n",
       "LG     1904\n",
       "롯데     1902\n",
       "KIA    1889\n",
       "한화     1879\n",
       "NC     1238\n",
       "넥센     1194\n",
       "키움      725\n",
       "kt      486\n",
       "KT      439\n",
       "Name: team2, dtype: int64"
      ]
     },
     "metadata": {},
     "output_type": "display_data"
    }
   ],
   "source": [
    "# 올스타전 경기 제거\n",
    "idx1 = df4.query('team1 == \"나눔\"').index\n",
    "df4.drop(idx1, inplace=True)\n",
    "\n",
    "idx1 = df4.query('team1 == \"드림\"').index\n",
    "df4.drop(idx1, inplace=True)\n",
    "\n",
    "idx1 = df4.query('team1 == \"웨스턴\"').index\n",
    "df4.drop(idx1, inplace=True)\n",
    "\n",
    "idx1 = df4.query('team1 == \"이스턴\"').index\n",
    "df4.drop(idx1, inplace=True)\n",
    "\n",
    "display(df4['team1'].value_counts())\n",
    "display(df4['team2'].value_counts())"
   ]
  },
  {
   "cell_type": "code",
   "execution_count": 19,
   "id": "a5bb0b40",
   "metadata": {},
   "outputs": [],
   "source": [
    "# 소문자 kt를 대문자 KT로 변경\n",
    "idx = df4.query('team1 == \"kt\"').index\n",
    "df4.loc[idx, 'team1'] = 'KT'\n",
    "\n",
    "idx = df4.query('team2 == \"kt\"').index\n",
    "df4.loc[idx, 'team2'] = 'KT'"
   ]
  },
  {
   "cell_type": "code",
   "execution_count": 21,
   "id": "eba54408",
   "metadata": {},
   "outputs": [
    {
     "data": {
      "text/plain": [
       "두산       1970\n",
       "SK       1935\n",
       "넥센_키움    1919\n",
       "삼성       1917\n",
       "LG       1904\n",
       "롯데       1902\n",
       "KIA      1889\n",
       "한화       1879\n",
       "NC       1238\n",
       "KT        925\n",
       "Name: team1, dtype: int64"
      ]
     },
     "metadata": {},
     "output_type": "display_data"
    },
    {
     "data": {
      "text/plain": [
       "두산       1970\n",
       "SK       1935\n",
       "넥센_키움    1919\n",
       "삼성       1917\n",
       "LG       1904\n",
       "롯데       1902\n",
       "KIA      1889\n",
       "한화       1879\n",
       "NC       1238\n",
       "KT        925\n",
       "Name: team2, dtype: int64"
      ]
     },
     "metadata": {},
     "output_type": "display_data"
    }
   ],
   "source": [
    "# 넥센은 키움으로 변경되었기 때문에 넥센_키움으로 통합\n",
    "idx = df4.query('team1 == \"키움\"').index\n",
    "df4.loc[idx, 'team1'] = '넥센_키움'\n",
    "\n",
    "idx = df4.query('team1 == \"넥센\"').index\n",
    "df4.loc[idx, 'team1'] = '넥센_키움'\n",
    "\n",
    "idx = df4.query('team2 == \"키움\"').index\n",
    "df4.loc[idx, 'team2'] = '넥센_키움'\n",
    "\n",
    "idx = df4.query('team2 == \"넥센\"').index\n",
    "df4.loc[idx, 'team2'] = '넥센_키움'\n",
    "\n",
    "display(df4['team1'].value_counts())\n",
    "display(df4['team2'].value_counts())"
   ]
  },
  {
   "cell_type": "code",
   "execution_count": 22,
   "id": "2afa956e",
   "metadata": {},
   "outputs": [
    {
     "data": {
      "text/plain": [
       "team1\n",
       "KIA      1889\n",
       "KT        925\n",
       "LG       1904\n",
       "NC       1238\n",
       "SK       1935\n",
       "넥센_키움    1919\n",
       "두산       1970\n",
       "롯데       1902\n",
       "삼성       1917\n",
       "한화       1879\n",
       "Name: result, dtype: int64"
      ]
     },
     "execution_count": 22,
     "metadata": {},
     "output_type": "execute_result"
    }
   ],
   "source": [
    "# 팀 별 치른 경기 횟수 확인\n",
    "team_count = df4.groupby('team1')['result'].count()\n",
    "team_count"
   ]
  },
  {
   "cell_type": "code",
   "execution_count": 29,
   "id": "0cd7d01d",
   "metadata": {},
   "outputs": [
    {
     "data": {
      "text/plain": [
       "team1\n",
       "KIA       915\n",
       "KT        397\n",
       "LG        891\n",
       "NC        633\n",
       "SK       1011\n",
       "넥센_키움     948\n",
       "두산       1084\n",
       "롯데        909\n",
       "삼성        974\n",
       "한화        773\n",
       "Name: result, dtype: int64"
      ]
     },
     "execution_count": 29,
     "metadata": {},
     "output_type": "execute_result"
    }
   ],
   "source": [
    "# 팀 별로 승리한 횟수 확인\n",
    "team_win_count = df4.groupby('team1')['result'].sum()\n",
    "team_win_count"
   ]
  },
  {
   "cell_type": "code",
   "execution_count": 30,
   "id": "c8cd9035",
   "metadata": {},
   "outputs": [
    {
     "data": {
      "text/plain": [
       "team1\n",
       "두산       55\n",
       "SK       52\n",
       "NC       51\n",
       "삼성       50\n",
       "넥센_키움    49\n",
       "KIA      48\n",
       "롯데       47\n",
       "LG       46\n",
       "KT       42\n",
       "한화       41\n",
       "Name: result, dtype: int32"
      ]
     },
     "execution_count": 30,
     "metadata": {},
     "output_type": "execute_result"
    }
   ],
   "source": [
    "# 승률 구하기 \n",
    "team_win_rate = team_win_count / team_count * 100\n",
    "team_win_rate = team_win_rate.astype('int')\n",
    "team_win_rate = team_win_rate.sort_values(ascending=False)\n",
    "team_win_rate"
   ]
  },
  {
   "cell_type": "code",
   "execution_count": 31,
   "id": "45169f67",
   "metadata": {},
   "outputs": [
    {
     "data": {
      "image/png": "[encoded data removed]",
      "text/plain": [
       "<Figure size 864x432 with 1 Axes>"
      ]
     },
     "metadata": {
      "needs_background": "light"
     },
     "output_type": "display_data"
    }
   ],
   "source": [
    "# 승률 시각화\n",
    "team_win_rate.plot.bar(rot=0)\n",
    "plt.show()"
   ]
  },
  {
   "cell_type": "markdown",
   "id": "f20df4d5",
   "metadata": {},
   "source": [
    "### 특정 팀에 관련된 정보 확인"
   ]
  },
  {
   "cell_type": "code",
   "execution_count": 32,
   "id": "7f34436f",
   "metadata": {},
   "outputs": [
    {
     "data": {
      "text/html": [
       "<div>\n",
       "<style scoped>\n",
       "    .dataframe tbody tr th:only-of-type {\n",
       "        vertical-align: middle;\n",
       "    }\n",
       "\n",
       "    .dataframe tbody tr th {\n",
       "        vertical-align: top;\n",
       "    }\n",
       "\n",
       "    .dataframe thead th {\n",
       "        text-align: right;\n",
       "    }\n",
       "</style>\n",
       "<table border=\"1\" class=\"dataframe\">\n",
       "  <thead>\n",
       "    <tr style=\"text-align: right;\">\n",
       "      <th></th>\n",
       "      <th>play_date</th>\n",
       "      <th>team1</th>\n",
       "      <th>team2</th>\n",
       "      <th>score1</th>\n",
       "      <th>score2</th>\n",
       "      <th>result</th>\n",
       "    </tr>\n",
       "  </thead>\n",
       "  <tbody>\n",
       "    <tr>\n",
       "      <th>0</th>\n",
       "      <td>20080329</td>\n",
       "      <td>롯데</td>\n",
       "      <td>한화</td>\n",
       "      <td>11</td>\n",
       "      <td>1</td>\n",
       "      <td>1</td>\n",
       "    </tr>\n",
       "    <tr>\n",
       "      <th>1</th>\n",
       "      <td>20080329</td>\n",
       "      <td>LG</td>\n",
       "      <td>SK</td>\n",
       "      <td>4</td>\n",
       "      <td>5</td>\n",
       "      <td>0</td>\n",
       "    </tr>\n",
       "    <tr>\n",
       "      <th>2</th>\n",
       "      <td>20080329</td>\n",
       "      <td>KIA</td>\n",
       "      <td>삼성</td>\n",
       "      <td>3</td>\n",
       "      <td>4</td>\n",
       "      <td>0</td>\n",
       "    </tr>\n",
       "    <tr>\n",
       "      <th>3</th>\n",
       "      <td>20080329</td>\n",
       "      <td>롯데</td>\n",
       "      <td>한화</td>\n",
       "      <td>11</td>\n",
       "      <td>1</td>\n",
       "      <td>1</td>\n",
       "    </tr>\n",
       "    <tr>\n",
       "      <th>4</th>\n",
       "      <td>20080329</td>\n",
       "      <td>LG</td>\n",
       "      <td>SK</td>\n",
       "      <td>4</td>\n",
       "      <td>5</td>\n",
       "      <td>0</td>\n",
       "    </tr>\n",
       "    <tr>\n",
       "      <th>...</th>\n",
       "      <td>...</td>\n",
       "      <td>...</td>\n",
       "      <td>...</td>\n",
       "      <td>...</td>\n",
       "      <td>...</td>\n",
       "      <td>...</td>\n",
       "    </tr>\n",
       "    <tr>\n",
       "      <th>17493</th>\n",
       "      <td>20201118</td>\n",
       "      <td>NC</td>\n",
       "      <td>두산</td>\n",
       "      <td>4</td>\n",
       "      <td>5</td>\n",
       "      <td>0</td>\n",
       "    </tr>\n",
       "    <tr>\n",
       "      <th>17494</th>\n",
       "      <td>20201120</td>\n",
       "      <td>두산</td>\n",
       "      <td>NC</td>\n",
       "      <td>7</td>\n",
       "      <td>6</td>\n",
       "      <td>1</td>\n",
       "    </tr>\n",
       "    <tr>\n",
       "      <th>17495</th>\n",
       "      <td>20201121</td>\n",
       "      <td>두산</td>\n",
       "      <td>NC</td>\n",
       "      <td>0</td>\n",
       "      <td>3</td>\n",
       "      <td>0</td>\n",
       "    </tr>\n",
       "    <tr>\n",
       "      <th>17496</th>\n",
       "      <td>20201123</td>\n",
       "      <td>NC</td>\n",
       "      <td>두산</td>\n",
       "      <td>5</td>\n",
       "      <td>0</td>\n",
       "      <td>1</td>\n",
       "    </tr>\n",
       "    <tr>\n",
       "      <th>17497</th>\n",
       "      <td>20201124</td>\n",
       "      <td>NC</td>\n",
       "      <td>두산</td>\n",
       "      <td>4</td>\n",
       "      <td>2</td>\n",
       "      <td>1</td>\n",
       "    </tr>\n",
       "  </tbody>\n",
       "</table>\n",
       "<p>17478 rows × 6 columns</p>\n",
       "</div>"
      ],
      "text/plain": [
       "       play_date team1 team2  score1  score2  result\n",
       "0       20080329    롯데    한화      11       1       1\n",
       "1       20080329    LG    SK       4       5       0\n",
       "2       20080329   KIA    삼성       3       4       0\n",
       "3       20080329    롯데    한화      11       1       1\n",
       "4       20080329    LG    SK       4       5       0\n",
       "...          ...   ...   ...     ...     ...     ...\n",
       "17493   20201118    NC    두산       4       5       0\n",
       "17494   20201120    두산    NC       7       6       1\n",
       "17495   20201121    두산    NC       0       3       0\n",
       "17496   20201123    NC    두산       5       0       1\n",
       "17497   20201124    NC    두산       4       2       1\n",
       "\n",
       "[17478 rows x 6 columns]"
      ]
     },
     "execution_count": 32,
     "metadata": {},
     "output_type": "execute_result"
    }
   ],
   "source": [
    "df4"
   ]
  },
  {
   "cell_type": "code",
   "execution_count": 33,
   "id": "8ecddfd9",
   "metadata": {},
   "outputs": [
    {
     "data": {
      "text/html": [
       "<div>\n",
       "<style scoped>\n",
       "    .dataframe tbody tr th:only-of-type {\n",
       "        vertical-align: middle;\n",
       "    }\n",
       "\n",
       "    .dataframe tbody tr th {\n",
       "        vertical-align: top;\n",
       "    }\n",
       "\n",
       "    .dataframe thead th {\n",
       "        text-align: right;\n",
       "    }\n",
       "</style>\n",
       "<table border=\"1\" class=\"dataframe\">\n",
       "  <thead>\n",
       "    <tr style=\"text-align: right;\">\n",
       "      <th></th>\n",
       "      <th>play_date</th>\n",
       "      <th>team1</th>\n",
       "      <th>team2</th>\n",
       "      <th>result</th>\n",
       "    </tr>\n",
       "  </thead>\n",
       "  <tbody>\n",
       "    <tr>\n",
       "      <th>0</th>\n",
       "      <td>20080329</td>\n",
       "      <td>롯데</td>\n",
       "      <td>한화</td>\n",
       "      <td>1</td>\n",
       "    </tr>\n",
       "    <tr>\n",
       "      <th>1</th>\n",
       "      <td>20080329</td>\n",
       "      <td>LG</td>\n",
       "      <td>SK</td>\n",
       "      <td>0</td>\n",
       "    </tr>\n",
       "    <tr>\n",
       "      <th>2</th>\n",
       "      <td>20080329</td>\n",
       "      <td>KIA</td>\n",
       "      <td>삼성</td>\n",
       "      <td>0</td>\n",
       "    </tr>\n",
       "    <tr>\n",
       "      <th>3</th>\n",
       "      <td>20080329</td>\n",
       "      <td>롯데</td>\n",
       "      <td>한화</td>\n",
       "      <td>1</td>\n",
       "    </tr>\n",
       "    <tr>\n",
       "      <th>4</th>\n",
       "      <td>20080329</td>\n",
       "      <td>LG</td>\n",
       "      <td>SK</td>\n",
       "      <td>0</td>\n",
       "    </tr>\n",
       "    <tr>\n",
       "      <th>...</th>\n",
       "      <td>...</td>\n",
       "      <td>...</td>\n",
       "      <td>...</td>\n",
       "      <td>...</td>\n",
       "    </tr>\n",
       "    <tr>\n",
       "      <th>17493</th>\n",
       "      <td>20201118</td>\n",
       "      <td>NC</td>\n",
       "      <td>두산</td>\n",
       "      <td>0</td>\n",
       "    </tr>\n",
       "    <tr>\n",
       "      <th>17494</th>\n",
       "      <td>20201120</td>\n",
       "      <td>두산</td>\n",
       "      <td>NC</td>\n",
       "      <td>1</td>\n",
       "    </tr>\n",
       "    <tr>\n",
       "      <th>17495</th>\n",
       "      <td>20201121</td>\n",
       "      <td>두산</td>\n",
       "      <td>NC</td>\n",
       "      <td>0</td>\n",
       "    </tr>\n",
       "    <tr>\n",
       "      <th>17496</th>\n",
       "      <td>20201123</td>\n",
       "      <td>NC</td>\n",
       "      <td>두산</td>\n",
       "      <td>1</td>\n",
       "    </tr>\n",
       "    <tr>\n",
       "      <th>17497</th>\n",
       "      <td>20201124</td>\n",
       "      <td>NC</td>\n",
       "      <td>두산</td>\n",
       "      <td>1</td>\n",
       "    </tr>\n",
       "  </tbody>\n",
       "</table>\n",
       "<p>17478 rows × 4 columns</p>\n",
       "</div>"
      ],
      "text/plain": [
       "       play_date team1 team2  result\n",
       "0       20080329    롯데    한화       1\n",
       "1       20080329    LG    SK       0\n",
       "2       20080329   KIA    삼성       0\n",
       "3       20080329    롯데    한화       1\n",
       "4       20080329    LG    SK       0\n",
       "...          ...   ...   ...     ...\n",
       "17493   20201118    NC    두산       0\n",
       "17494   20201120    두산    NC       1\n",
       "17495   20201121    두산    NC       0\n",
       "17496   20201123    NC    두산       1\n",
       "17497   20201124    NC    두산       1\n",
       "\n",
       "[17478 rows x 4 columns]"
      ]
     },
     "execution_count": 33,
     "metadata": {},
     "output_type": "execute_result"
    }
   ],
   "source": [
    "# 필요한 것만 가져오기\n",
    "df5 = df4[['play_date', 'team1', 'team2', 'result']]\n",
    "df5"
   ]
  },
  {
   "cell_type": "code",
   "execution_count": 34,
   "id": "72af3431",
   "metadata": {},
   "outputs": [
    {
     "data": {
      "text/plain": [
       "dtype('int64')"
      ]
     },
     "execution_count": 34,
     "metadata": {},
     "output_type": "execute_result"
    }
   ],
   "source": [
    "# 경기날짜 확인\n",
    "df5['play_date'].dtype"
   ]
  },
  {
   "cell_type": "code",
   "execution_count": 35,
   "id": "d17a3ea4",
   "metadata": {},
   "outputs": [
    {
     "data": {
      "text/html": [
       "<div>\n",
       "<style scoped>\n",
       "    .dataframe tbody tr th:only-of-type {\n",
       "        vertical-align: middle;\n",
       "    }\n",
       "\n",
       "    .dataframe tbody tr th {\n",
       "        vertical-align: top;\n",
       "    }\n",
       "\n",
       "    .dataframe thead th {\n",
       "        text-align: right;\n",
       "    }\n",
       "</style>\n",
       "<table border=\"1\" class=\"dataframe\">\n",
       "  <thead>\n",
       "    <tr style=\"text-align: right;\">\n",
       "      <th></th>\n",
       "      <th>play_date</th>\n",
       "      <th>team1</th>\n",
       "      <th>team2</th>\n",
       "      <th>result</th>\n",
       "      <th>play_year</th>\n",
       "    </tr>\n",
       "  </thead>\n",
       "  <tbody>\n",
       "    <tr>\n",
       "      <th>0</th>\n",
       "      <td>20080329</td>\n",
       "      <td>롯데</td>\n",
       "      <td>한화</td>\n",
       "      <td>1</td>\n",
       "      <td>2008</td>\n",
       "    </tr>\n",
       "    <tr>\n",
       "      <th>1</th>\n",
       "      <td>20080329</td>\n",
       "      <td>LG</td>\n",
       "      <td>SK</td>\n",
       "      <td>0</td>\n",
       "      <td>2008</td>\n",
       "    </tr>\n",
       "    <tr>\n",
       "      <th>2</th>\n",
       "      <td>20080329</td>\n",
       "      <td>KIA</td>\n",
       "      <td>삼성</td>\n",
       "      <td>0</td>\n",
       "      <td>2008</td>\n",
       "    </tr>\n",
       "    <tr>\n",
       "      <th>3</th>\n",
       "      <td>20080329</td>\n",
       "      <td>롯데</td>\n",
       "      <td>한화</td>\n",
       "      <td>1</td>\n",
       "      <td>2008</td>\n",
       "    </tr>\n",
       "    <tr>\n",
       "      <th>4</th>\n",
       "      <td>20080329</td>\n",
       "      <td>LG</td>\n",
       "      <td>SK</td>\n",
       "      <td>0</td>\n",
       "      <td>2008</td>\n",
       "    </tr>\n",
       "    <tr>\n",
       "      <th>...</th>\n",
       "      <td>...</td>\n",
       "      <td>...</td>\n",
       "      <td>...</td>\n",
       "      <td>...</td>\n",
       "      <td>...</td>\n",
       "    </tr>\n",
       "    <tr>\n",
       "      <th>17493</th>\n",
       "      <td>20201118</td>\n",
       "      <td>NC</td>\n",
       "      <td>두산</td>\n",
       "      <td>0</td>\n",
       "      <td>2020</td>\n",
       "    </tr>\n",
       "    <tr>\n",
       "      <th>17494</th>\n",
       "      <td>20201120</td>\n",
       "      <td>두산</td>\n",
       "      <td>NC</td>\n",
       "      <td>1</td>\n",
       "      <td>2020</td>\n",
       "    </tr>\n",
       "    <tr>\n",
       "      <th>17495</th>\n",
       "      <td>20201121</td>\n",
       "      <td>두산</td>\n",
       "      <td>NC</td>\n",
       "      <td>0</td>\n",
       "      <td>2020</td>\n",
       "    </tr>\n",
       "    <tr>\n",
       "      <th>17496</th>\n",
       "      <td>20201123</td>\n",
       "      <td>NC</td>\n",
       "      <td>두산</td>\n",
       "      <td>1</td>\n",
       "      <td>2020</td>\n",
       "    </tr>\n",
       "    <tr>\n",
       "      <th>17497</th>\n",
       "      <td>20201124</td>\n",
       "      <td>NC</td>\n",
       "      <td>두산</td>\n",
       "      <td>1</td>\n",
       "      <td>2020</td>\n",
       "    </tr>\n",
       "  </tbody>\n",
       "</table>\n",
       "<p>17478 rows × 5 columns</p>\n",
       "</div>"
      ],
      "text/plain": [
       "       play_date team1 team2  result  play_year\n",
       "0       20080329    롯데    한화       1       2008\n",
       "1       20080329    LG    SK       0       2008\n",
       "2       20080329   KIA    삼성       0       2008\n",
       "3       20080329    롯데    한화       1       2008\n",
       "4       20080329    LG    SK       0       2008\n",
       "...          ...   ...   ...     ...        ...\n",
       "17493   20201118    NC    두산       0       2020\n",
       "17494   20201120    두산    NC       1       2020\n",
       "17495   20201121    두산    NC       0       2020\n",
       "17496   20201123    NC    두산       1       2020\n",
       "17497   20201124    NC    두산       1       2020\n",
       "\n",
       "[17478 rows x 5 columns]"
      ]
     },
     "execution_count": 35,
     "metadata": {},
     "output_type": "execute_result"
    }
   ],
   "source": [
    "# 경기연도 추출\n",
    "df5['play_year'] = df5['play_date'] // 10000\n",
    "df5"
   ]
  },
  {
   "cell_type": "code",
   "execution_count": 36,
   "id": "4a797145",
   "metadata": {},
   "outputs": [
    {
     "data": {
      "text/plain": [
       "Index(['두산', 'SK', '넥센_키움', '삼성', 'LG', '롯데', 'KIA', '한화', 'NC', 'KT'], dtype='object')"
      ]
     },
     "metadata": {},
     "output_type": "display_data"
    }
   ],
   "source": [
    "# 팀 이름 추출\n",
    "team_list = df5['team1'].value_counts().index\n",
    "display(team_list)"
   ]
  },
  {
   "cell_type": "code",
   "execution_count": 44,
   "id": "fb45f5f6",
   "metadata": {
    "scrolled": false
   },
   "outputs": [
    {
     "data": {
      "image/png": "[encoded data removed]",
      "text/plain": [
       "<Figure size 864x432 with 1 Axes>"
      ]
     },
     "metadata": {
      "needs_background": "light"
     },
     "output_type": "display_data"
    },
    {
     "data": {
      "image/png": "[encoded data removed]",
      "text/plain": [
       "<Figure size 864x432 with 1 Axes>"
      ]
     },
     "metadata": {
      "needs_background": "light"
     },
     "output_type": "display_data"
    },
    {
     "data": {
      "image/png": "[encoded data removed]",
      "text/plain": [
       "<Figure size 864x432 with 1 Axes>"
      ]
     },
     "metadata": {
      "needs_background": "light"
     },
     "output_type": "display_data"
    },
    {
     "data": {
      "image/png": "[encoded data removed]",
      "text/plain": [
       "<Figure size 864x432 with 1 Axes>"
      ]
     },
     "metadata": {
      "needs_background": "light"
     },
     "output_type": "display_data"
    },
    {
     "data": {
      "image/png": "[encoded data removed]",
      "text/plain": [
       "<Figure size 864x432 with 1 Axes>"
      ]
     },
     "metadata": {
      "needs_background": "light"
     },
     "output_type": "display_data"
    },
    {
     "data": {
      "image/png": "[encoded data removed]",
      "text/plain": [
       "<Figure size 864x432 with 1 Axes>"
      ]
     },
     "metadata": {
      "needs_background": "light"
     },
     "output_type": "display_data"
    },
    {
     "data": {
      "image/png": "[encoded data removed]",
      "text/plain": [
       "<Figure size 864x432 with 1 Axes>"
      ]
     },
     "metadata": {
      "needs_background": "light"
     },
     "output_type": "display_data"
    },
    {
     "data": {
      "image/png": "[encoded data removed]",
      "text/plain": [
       "<Figure size 864x432 with 1 Axes>"
      ]
     },
     "metadata": {
      "needs_background": "light"
     },
     "output_type": "display_data"
    },
    {
     "data": {
      "image/png": "[encoded data removed]",
      "text/plain": [
       "<Figure size 864x432 with 1 Axes>"
      ]
     },
     "metadata": {
      "needs_background": "light"
     },
     "output_type": "display_data"
    },
    {
     "data": {
      "image/png": "[encoded data removed]",
      "text/plain": [
       "<Figure size 864x432 with 1 Axes>"
      ]
     },
     "metadata": {
      "needs_background": "light"
     },
     "output_type": "display_data"
    }
   ],
   "source": [
    "# 팀의 수 만큼 반복\n",
    "for team_name in team_list:\n",
    "#     현재 팀 데이터 추출\n",
    "    idx = df5.query('team1 == @team_name').index\n",
    "    df6 = df5.loc[idx]\n",
    "#     display(df6)\n",
    "\n",
    "#     현재 팀의 경기연도를 기준으로 승리 횟수 구하기\n",
    "    a1 = df6.groupby('play_year')['result'].sum()\n",
    "#     현재 팀의 경기연도를 기준으로 경기 횟수 구하기\n",
    "    a2 = df6.groupby('play_year')['result'].count()\n",
    "#     승률 구하기\n",
    "    a3 = (a1 / a2 * 100).astype('int')\n",
    "#     display(a3)\n",
    "\n",
    "#     시각화\n",
    "    a3.plot.bar(rot=60)\n",
    "    plt.title(team_name)\n",
    "    plt.ylim(0, 100)\n",
    "    plt.show()"
   ]
  },
  {
   "cell_type": "markdown",
   "id": "74f62276",
   "metadata": {},
   "source": [
    "### 각 팀별 상대 팀에 대한 승률"
   ]
  },
  {
   "cell_type": "code",
   "execution_count": 45,
   "id": "4550d0e7",
   "metadata": {},
   "outputs": [
    {
     "data": {
      "text/html": [
       "<div>\n",
       "<style scoped>\n",
       "    .dataframe tbody tr th:only-of-type {\n",
       "        vertical-align: middle;\n",
       "    }\n",
       "\n",
       "    .dataframe tbody tr th {\n",
       "        vertical-align: top;\n",
       "    }\n",
       "\n",
       "    .dataframe thead th {\n",
       "        text-align: right;\n",
       "    }\n",
       "</style>\n",
       "<table border=\"1\" class=\"dataframe\">\n",
       "  <thead>\n",
       "    <tr style=\"text-align: right;\">\n",
       "      <th></th>\n",
       "      <th>play_date</th>\n",
       "      <th>team1</th>\n",
       "      <th>team2</th>\n",
       "      <th>score1</th>\n",
       "      <th>score2</th>\n",
       "      <th>result</th>\n",
       "    </tr>\n",
       "  </thead>\n",
       "  <tbody>\n",
       "    <tr>\n",
       "      <th>0</th>\n",
       "      <td>20080329</td>\n",
       "      <td>롯데</td>\n",
       "      <td>한화</td>\n",
       "      <td>11</td>\n",
       "      <td>1</td>\n",
       "      <td>1</td>\n",
       "    </tr>\n",
       "    <tr>\n",
       "      <th>1</th>\n",
       "      <td>20080329</td>\n",
       "      <td>LG</td>\n",
       "      <td>SK</td>\n",
       "      <td>4</td>\n",
       "      <td>5</td>\n",
       "      <td>0</td>\n",
       "    </tr>\n",
       "    <tr>\n",
       "      <th>2</th>\n",
       "      <td>20080329</td>\n",
       "      <td>KIA</td>\n",
       "      <td>삼성</td>\n",
       "      <td>3</td>\n",
       "      <td>4</td>\n",
       "      <td>0</td>\n",
       "    </tr>\n",
       "    <tr>\n",
       "      <th>3</th>\n",
       "      <td>20080329</td>\n",
       "      <td>롯데</td>\n",
       "      <td>한화</td>\n",
       "      <td>11</td>\n",
       "      <td>1</td>\n",
       "      <td>1</td>\n",
       "    </tr>\n",
       "    <tr>\n",
       "      <th>4</th>\n",
       "      <td>20080329</td>\n",
       "      <td>LG</td>\n",
       "      <td>SK</td>\n",
       "      <td>4</td>\n",
       "      <td>5</td>\n",
       "      <td>0</td>\n",
       "    </tr>\n",
       "    <tr>\n",
       "      <th>...</th>\n",
       "      <td>...</td>\n",
       "      <td>...</td>\n",
       "      <td>...</td>\n",
       "      <td>...</td>\n",
       "      <td>...</td>\n",
       "      <td>...</td>\n",
       "    </tr>\n",
       "    <tr>\n",
       "      <th>17493</th>\n",
       "      <td>20201118</td>\n",
       "      <td>NC</td>\n",
       "      <td>두산</td>\n",
       "      <td>4</td>\n",
       "      <td>5</td>\n",
       "      <td>0</td>\n",
       "    </tr>\n",
       "    <tr>\n",
       "      <th>17494</th>\n",
       "      <td>20201120</td>\n",
       "      <td>두산</td>\n",
       "      <td>NC</td>\n",
       "      <td>7</td>\n",
       "      <td>6</td>\n",
       "      <td>1</td>\n",
       "    </tr>\n",
       "    <tr>\n",
       "      <th>17495</th>\n",
       "      <td>20201121</td>\n",
       "      <td>두산</td>\n",
       "      <td>NC</td>\n",
       "      <td>0</td>\n",
       "      <td>3</td>\n",
       "      <td>0</td>\n",
       "    </tr>\n",
       "    <tr>\n",
       "      <th>17496</th>\n",
       "      <td>20201123</td>\n",
       "      <td>NC</td>\n",
       "      <td>두산</td>\n",
       "      <td>5</td>\n",
       "      <td>0</td>\n",
       "      <td>1</td>\n",
       "    </tr>\n",
       "    <tr>\n",
       "      <th>17497</th>\n",
       "      <td>20201124</td>\n",
       "      <td>NC</td>\n",
       "      <td>두산</td>\n",
       "      <td>4</td>\n",
       "      <td>2</td>\n",
       "      <td>1</td>\n",
       "    </tr>\n",
       "  </tbody>\n",
       "</table>\n",
       "<p>17478 rows × 6 columns</p>\n",
       "</div>"
      ],
      "text/plain": [
       "       play_date team1 team2  score1  score2  result\n",
       "0       20080329    롯데    한화      11       1       1\n",
       "1       20080329    LG    SK       4       5       0\n",
       "2       20080329   KIA    삼성       3       4       0\n",
       "3       20080329    롯데    한화      11       1       1\n",
       "4       20080329    LG    SK       4       5       0\n",
       "...          ...   ...   ...     ...     ...     ...\n",
       "17493   20201118    NC    두산       4       5       0\n",
       "17494   20201120    두산    NC       7       6       1\n",
       "17495   20201121    두산    NC       0       3       0\n",
       "17496   20201123    NC    두산       5       0       1\n",
       "17497   20201124    NC    두산       4       2       1\n",
       "\n",
       "[17478 rows x 6 columns]"
      ]
     },
     "execution_count": 45,
     "metadata": {},
     "output_type": "execute_result"
    }
   ],
   "source": [
    "df4"
   ]
  },
  {
   "cell_type": "code",
   "execution_count": 46,
   "id": "9edddd98",
   "metadata": {},
   "outputs": [
    {
     "data": {
      "text/html": [
       "<div>\n",
       "<style scoped>\n",
       "    .dataframe tbody tr th:only-of-type {\n",
       "        vertical-align: middle;\n",
       "    }\n",
       "\n",
       "    .dataframe tbody tr th {\n",
       "        vertical-align: top;\n",
       "    }\n",
       "\n",
       "    .dataframe thead th {\n",
       "        text-align: right;\n",
       "    }\n",
       "</style>\n",
       "<table border=\"1\" class=\"dataframe\">\n",
       "  <thead>\n",
       "    <tr style=\"text-align: right;\">\n",
       "      <th></th>\n",
       "      <th>team1</th>\n",
       "      <th>team2</th>\n",
       "      <th>result</th>\n",
       "    </tr>\n",
       "  </thead>\n",
       "  <tbody>\n",
       "    <tr>\n",
       "      <th>0</th>\n",
       "      <td>롯데</td>\n",
       "      <td>한화</td>\n",
       "      <td>1</td>\n",
       "    </tr>\n",
       "    <tr>\n",
       "      <th>1</th>\n",
       "      <td>LG</td>\n",
       "      <td>SK</td>\n",
       "      <td>0</td>\n",
       "    </tr>\n",
       "    <tr>\n",
       "      <th>2</th>\n",
       "      <td>KIA</td>\n",
       "      <td>삼성</td>\n",
       "      <td>0</td>\n",
       "    </tr>\n",
       "    <tr>\n",
       "      <th>3</th>\n",
       "      <td>롯데</td>\n",
       "      <td>한화</td>\n",
       "      <td>1</td>\n",
       "    </tr>\n",
       "    <tr>\n",
       "      <th>4</th>\n",
       "      <td>LG</td>\n",
       "      <td>SK</td>\n",
       "      <td>0</td>\n",
       "    </tr>\n",
       "    <tr>\n",
       "      <th>...</th>\n",
       "      <td>...</td>\n",
       "      <td>...</td>\n",
       "      <td>...</td>\n",
       "    </tr>\n",
       "    <tr>\n",
       "      <th>17493</th>\n",
       "      <td>NC</td>\n",
       "      <td>두산</td>\n",
       "      <td>0</td>\n",
       "    </tr>\n",
       "    <tr>\n",
       "      <th>17494</th>\n",
       "      <td>두산</td>\n",
       "      <td>NC</td>\n",
       "      <td>1</td>\n",
       "    </tr>\n",
       "    <tr>\n",
       "      <th>17495</th>\n",
       "      <td>두산</td>\n",
       "      <td>NC</td>\n",
       "      <td>0</td>\n",
       "    </tr>\n",
       "    <tr>\n",
       "      <th>17496</th>\n",
       "      <td>NC</td>\n",
       "      <td>두산</td>\n",
       "      <td>1</td>\n",
       "    </tr>\n",
       "    <tr>\n",
       "      <th>17497</th>\n",
       "      <td>NC</td>\n",
       "      <td>두산</td>\n",
       "      <td>1</td>\n",
       "    </tr>\n",
       "  </tbody>\n",
       "</table>\n",
       "<p>17478 rows × 3 columns</p>\n",
       "</div>"
      ],
      "text/plain": [
       "      team1 team2  result\n",
       "0        롯데    한화       1\n",
       "1        LG    SK       0\n",
       "2       KIA    삼성       0\n",
       "3        롯데    한화       1\n",
       "4        LG    SK       0\n",
       "...     ...   ...     ...\n",
       "17493    NC    두산       0\n",
       "17494    두산    NC       1\n",
       "17495    두산    NC       0\n",
       "17496    NC    두산       1\n",
       "17497    NC    두산       1\n",
       "\n",
       "[17478 rows x 3 columns]"
      ]
     },
     "execution_count": 46,
     "metadata": {},
     "output_type": "execute_result"
    }
   ],
   "source": [
    "# 필요한 데이터만 추출\n",
    "df5 = df4[['team1', 'team2', 'result']]\n",
    "df5"
   ]
  },
  {
   "cell_type": "code",
   "execution_count": 49,
   "id": "a6caafbd",
   "metadata": {},
   "outputs": [
    {
     "data": {
      "text/plain": [
       "team1  team2\n",
       "KIA    KT       52\n",
       "       LG       48\n",
       "       NC       46\n",
       "       SK       47\n",
       "       넥센_키움    47\n",
       "                ..\n",
       "한화     SK       34\n",
       "       넥센_키움    46\n",
       "       두산       39\n",
       "       롯데       39\n",
       "       삼성       39\n",
       "Name: result, Length: 90, dtype: int32"
      ]
     },
     "execution_count": 49,
     "metadata": {},
     "output_type": "execute_result"
    }
   ],
   "source": [
    "# team1 기준으로 그룹을 묶고 그 안에서 team2 기준으로 다시 그룹 묶기\n",
    "a1 = df5.groupby(['team1', 'team2'])['result'].sum()\n",
    "a2 = df5.groupby(['team1', 'team2'])['result'].count()\n",
    "\n",
    "# 승률을 계산\n",
    "a3 = (a1 / a2 * 100).astype('int')\n",
    "a3"
   ]
  },
  {
   "cell_type": "code",
   "execution_count": 50,
   "id": "c8d85c7f",
   "metadata": {},
   "outputs": [
    {
     "data": {
      "text/plain": [
       "Index(['두산', 'SK', '넥센_키움', '삼성', 'LG', '롯데', 'KIA', '한화', 'NC', 'KT'], dtype='object')"
      ]
     },
     "execution_count": 50,
     "metadata": {},
     "output_type": "execute_result"
    }
   ],
   "source": [
    "# 전체 팀의 이름 추출\n",
    "team_list = df4['team1'].value_counts().index\n",
    "team_list"
   ]
  },
  {
   "cell_type": "code",
   "execution_count": 52,
   "id": "dda81912",
   "metadata": {},
   "outputs": [
    {
     "data": {
      "image/png": "[encoded data removed]",
      "text/plain": [
       "<Figure size 864x432 with 1 Axes>"
      ]
     },
     "metadata": {
      "needs_background": "light"
     },
     "output_type": "display_data"
    },
    {
     "data": {
      "image/png": "[encoded data removed]",
      "text/plain": [
       "<Figure size 864x432 with 1 Axes>"
      ]
     },
     "metadata": {
      "needs_background": "light"
     },
     "output_type": "display_data"
    },
    {
     "data": {
      "image/png": "[encoded data removed]",
      "text/plain": [
       "<Figure size 864x432 with 1 Axes>"
      ]
     },
     "metadata": {
      "needs_background": "light"
     },
     "output_type": "display_data"
    },
    {
     "data": {
      "image/png": "[encoded data removed]",
      "text/plain": [
       "<Figure size 864x432 with 1 Axes>"
      ]
     },
     "metadata": {
      "needs_background": "light"
     },
     "output_type": "display_data"
    },
    {
     "data": {
      "image/png": "[encoded data removed]",
      "text/plain": [
       "<Figure size 864x432 with 1 Axes>"
      ]
     },
     "metadata": {
      "needs_background": "light"
     },
     "output_type": "display_data"
    },
    {
     "data": {
      "image/png": "[encoded data removed]",
      "text/plain": [
       "<Figure size 864x432 with 1 Axes>"
      ]
     },
     "metadata": {
      "needs_background": "light"
     },
     "output_type": "display_data"
    },
    {
     "data": {
      "image/png": "[encoded data removed]",
      "text/plain": [
       "<Figure size 864x432 with 1 Axes>"
      ]
     },
     "metadata": {
      "needs_background": "light"
     },
     "output_type": "display_data"
    },
    {
     "data": {
      "image/png": "[encoded data removed]",
      "text/plain": [
       "<Figure size 864x432 with 1 Axes>"
      ]
     },
     "metadata": {
      "needs_background": "light"
     },
     "output_type": "display_data"
    },
    {
     "data": {
      "image/png": "[encoded data removed]",
      "text/plain": [
       "<Figure size 864x432 with 1 Axes>"
      ]
     },
     "metadata": {
      "needs_background": "light"
     },
     "output_type": "display_data"
    },
    {
     "data": {
      "image/png": "[encoded data removed]",
      "text/plain": [
       "<Figure size 864x432 with 1 Axes>"
      ]
     },
     "metadata": {
      "needs_background": "light"
     },
     "output_type": "display_data"
    }
   ],
   "source": [
    "# 팀의 수 만큼 반복\n",
    "for team_name in team_list:\n",
    "#     현재 팀의 승률 정렬\n",
    "    a4 = a3[team_name].sort_values(ascending=False)\n",
    "#     시각화\n",
    "    a4.plot.bar(rot=0)\n",
    "    plt.title(team_name)\n",
    "    plt.show()"
   ]
  },
  {
   "cell_type": "code",
   "execution_count": 56,
   "id": "ddf74170",
   "metadata": {},
   "outputs": [
    {
     "data": {
      "text/html": [
       "<div>\n",
       "<style scoped>\n",
       "    .dataframe tbody tr th:only-of-type {\n",
       "        vertical-align: middle;\n",
       "    }\n",
       "\n",
       "    .dataframe tbody tr th {\n",
       "        vertical-align: top;\n",
       "    }\n",
       "\n",
       "    .dataframe thead th {\n",
       "        text-align: right;\n",
       "    }\n",
       "</style>\n",
       "<table border=\"1\" class=\"dataframe\">\n",
       "  <thead>\n",
       "    <tr style=\"text-align: right;\">\n",
       "      <th></th>\n",
       "      <th>동네북</th>\n",
       "    </tr>\n",
       "  </thead>\n",
       "  <tbody>\n",
       "    <tr>\n",
       "      <th>한화</th>\n",
       "      <td>7</td>\n",
       "    </tr>\n",
       "    <tr>\n",
       "      <th>KT</th>\n",
       "      <td>7</td>\n",
       "    </tr>\n",
       "    <tr>\n",
       "      <th>LG</th>\n",
       "      <td>4</td>\n",
       "    </tr>\n",
       "    <tr>\n",
       "      <th>KIA</th>\n",
       "      <td>4</td>\n",
       "    </tr>\n",
       "    <tr>\n",
       "      <th>NC</th>\n",
       "      <td>3</td>\n",
       "    </tr>\n",
       "    <tr>\n",
       "      <th>롯데</th>\n",
       "      <td>2</td>\n",
       "    </tr>\n",
       "    <tr>\n",
       "      <th>SK</th>\n",
       "      <td>1</td>\n",
       "    </tr>\n",
       "    <tr>\n",
       "      <th>넥센_키움</th>\n",
       "      <td>1</td>\n",
       "    </tr>\n",
       "    <tr>\n",
       "      <th>삼성</th>\n",
       "      <td>1</td>\n",
       "    </tr>\n",
       "    <tr>\n",
       "      <th>두산</th>\n",
       "      <td>0</td>\n",
       "    </tr>\n",
       "  </tbody>\n",
       "</table>\n",
       "</div>"
      ],
      "text/plain": [
       "       동네북\n",
       "한화       7\n",
       "KT       7\n",
       "LG       4\n",
       "KIA      4\n",
       "NC       3\n",
       "롯데       2\n",
       "SK       1\n",
       "넥센_키움    1\n",
       "삼성       1\n",
       "두산       0"
      ]
     },
     "metadata": {},
     "output_type": "display_data"
    },
    {
     "data": {
      "image/png": "[encoded data removed]",
      "text/plain": [
       "<Figure size 864x432 with 1 Axes>"
      ]
     },
     "metadata": {
      "needs_background": "light"
     },
     "output_type": "display_data"
    },
    {
     "name": "stdout",
     "output_type": "stream",
     "text": [
      "삐빅! 동네북은 한화와 KT 입니다.\n"
     ]
    }
   ],
   "source": [
    "# 각 팀의 승률이 높은 3개의 팀을 추출해서 여기에 몇 번 포함되는지 확인 \n",
    "data_dict = {}\n",
    "\n",
    "# 딕셔너리에 팀 이름으로 0을 저장\n",
    "for team_name in team_list:\n",
    "    data_dict[team_name] = 0\n",
    "    \n",
    "# display(data_dict)\n",
    "# 팀 이름만큼 반복\n",
    "for team_name in team_list:\n",
    "#     현재 팀의 승률 정렬\n",
    "    a4 = a3[team_name].sort_values(ascending=False)\n",
    "#     상위 3개 팀의 이름 추출\n",
    "    a5 = a4.head(3).index\n",
    "#     print(a5)\n",
    "    \n",
    "#     딕셔너리에 있는 값 증가시키기\n",
    "    for a6 in a5:\n",
    "        data_dict[a6] = data_dict[a6] + 1\n",
    "\n",
    "# DataFrame 생성\n",
    "a1 = data_dict.keys()\n",
    "a2 = data_dict.values()\n",
    "\n",
    "result_df = pd.DataFrame(list(a2), index=a1, columns=['동네북'])\n",
    "result_df.sort_values(by='동네북', inplace=True, ascending=False)\n",
    "display(result_df)\n",
    "\n",
    "result_df.plot.bar(rot=0)\n",
    "plt.show()\n",
    "print('삐빅! 동네북은 한화와 KT 입니다.')"
   ]
  },
  {
   "cell_type": "code",
   "execution_count": null,
   "id": "a5e1ca42",
   "metadata": {},
   "outputs": [],
   "source": []
  }
 ],
 "metadata": {
  "kernelspec": {
   "display_name": "Python 3",
   "language": "python",
   "name": "python3"
  },
  "language_info": {
   "codemirror_mode": {
    "name": "ipython",
    "version": 3
   },
   "file_extension": ".py",
   "mimetype": "text/x-python",
   "name": "python",
   "nbconvert_exporter": "python",
   "pygments_lexer": "ipython3",
   "version": "3.8.8"
  }
 },
 "nbformat": 4,
 "nbformat_minor": 5
}
