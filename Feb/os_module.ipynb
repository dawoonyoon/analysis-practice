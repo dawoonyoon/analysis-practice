{
 "cells": [
  {
   "cell_type": "markdown",
   "metadata": {},
   "source": [
    "1. Getting the Current Working Directory in Python"
   ]
  },
  {
   "cell_type": "code",
   "execution_count": 3,
   "metadata": {},
   "outputs": [
    {
     "name": "stdout",
     "output_type": "stream",
     "text": [
      "Current working directory: c:\\workspace\\Jupyter\n",
      "os.getcwd() returns an object of type: <class 'str'>\n"
     ]
    }
   ],
   "source": [
    "# Import the os module\n",
    "import os\n",
    "\n",
    "# Get the current working directory\n",
    "cwd = os.getcwd()\n",
    "\n",
    "# Print the current working directory\n",
    "print(\"Current working directory: {0}\".format(cwd))\n",
    "\n",
    "# Print the type of the returned object\n",
    "print(\"os.getcwd() returns an object of type: {0}\".format(type(cwd)))"
   ]
  },
  {
   "cell_type": "code",
   "execution_count": 6,
   "metadata": {},
   "outputs": [
    {
     "data": {
      "text/plain": [
       "'C:\\\\workspace\\\\Jupyter\\\\os_module.ipynb'"
      ]
     },
     "execution_count": 6,
     "metadata": {},
     "output_type": "execute_result"
    }
   ],
   "source": [
    "# The absolute path to the running script\n",
    "os.path.realpath('os_module.ipynb')"
   ]
  },
  {
   "cell_type": "markdown",
   "metadata": {},
   "source": [
    "2. Changing the Current Working Directory in Python"
   ]
  },
  {
   "cell_type": "code",
   "execution_count": 9,
   "metadata": {},
   "outputs": [
    {
     "name": "stdout",
     "output_type": "stream",
     "text": [
      "Current working directory: c:\\workspace\\Jupyter\n",
      "Current working directory: c:\\workspace\\Jupyter\\tmp\n"
     ]
    }
   ],
   "source": [
    "# Import the os module\n",
    "import os\n",
    "\n",
    "# Print the current working directory\n",
    "print(\"Current working directory: {0}\".format(os.getcwd()))\n",
    "\n",
    "# Change the current working directory\n",
    "os.chdir('tmp')\n",
    "\n",
    "# Print the current working directory\n",
    "print(\"Current working directory: {0}\".format(os.getcwd()))"
   ]
  },
  {
   "cell_type": "markdown",
   "metadata": {},
   "source": [
    "---"
   ]
  },
  {
   "cell_type": "code",
   "execution_count": 12,
   "metadata": {},
   "outputs": [
    {
     "data": {
      "text/plain": [
       "['(소재지)_토지 명세 500개 with PNU_평가액.ipynb',\n",
       " '(회신)알고리즘 담보평가 점검요청 리스트_매칭.xlsx',\n",
       " '.ipynb_checkpoints',\n",
       " '01.17.ipynb',\n",
       " '01.17_practice.ipynb',\n",
       " '01.18.ipynb',\n",
       " '01.19.ipynb',\n",
       " '01.20.ipynb',\n",
       " '01.21.ipynb',\n",
       " '01_24.xlsx',\n",
       " '01_25.ipynb',\n",
       " 'AL.ipynb',\n",
       " 'CAMBODIA_1.ipynb',\n",
       " 'CAMBODIA_2.ipynb',\n",
       " 'CAMBODIA_3.ipynb',\n",
       " 'data',\n",
       " 'ghostdriver.log',\n",
       " 'os_module.ipynb',\n",
       " 'PNU.csv',\n",
       " 'tmp',\n",
       " 'WFC_담보데이터_바인딩_2021-12-07.xlsx',\n",
       " '[dyyoonn]일반상가_실거래수집.ipynb',\n",
       " '담보데이터_CELL_INFO_ADDED.xlsx',\n",
       " '도로명주소_api.ipynb',\n",
       " '도전.ipynb',\n",
       " '알고리즘 테스트(소재지)_토지 명세 500개 with PNU_평가액.xlsx',\n",
       " '알고리즘 테스트(소재지)_토지 명세 500개.xlsx',\n",
       " '토지평가액_종합.xlsx']"
      ]
     },
     "execution_count": 12,
     "metadata": {},
     "output_type": "execute_result"
    }
   ],
   "source": [
    "os.listdir(cwd)"
   ]
  },
  {
   "cell_type": "code",
   "execution_count": 13,
   "metadata": {},
   "outputs": [
    {
     "name": "stdout",
     "output_type": "stream",
     "text": [
      "(회신)알고리즘 담보평가 점검요청 리스트_매칭.xlsx\n",
      "01_24.xlsx\n",
      "WFC_담보데이터_바인딩_2021-12-07.xlsx\n",
      "담보데이터_CELL_INFO_ADDED.xlsx\n",
      "알고리즘 테스트(소재지)_토지 명세 500개 with PNU_평가액.xlsx\n",
      "알고리즘 테스트(소재지)_토지 명세 500개.xlsx\n",
      "토지평가액_종합.xlsx\n"
     ]
    }
   ],
   "source": [
    "for i in os.listdir(cwd):\n",
    "    if i.endswith('xlsx'):\n",
    "        print(i)"
   ]
  },
  {
   "cell_type": "markdown",
   "metadata": {},
   "source": [
    "---"
   ]
  },
  {
   "cell_type": "markdown",
   "metadata": {},
   "source": [
    "1. Generating the file names in a directory tree by walking the tree either top-down or bottom-up"
   ]
  },
  {
   "cell_type": "code",
   "execution_count": 1,
   "metadata": {},
   "outputs": [
    {
     "name": "stdout",
     "output_type": "stream",
     "text": [
      "test\\dirA\\a-1.txt.txt\n",
      "test\\dirA\\a-2.txt.txt\n",
      "test\\dirA\\dirD\\d-1.txt.txt\n",
      "test\\dirB\\b-1.py\n",
      "test\\dirB\\b-2.py\n",
      "test\\dirC\\c-1.txt.txt\n",
      "test\\dirC\\c-2.txt.txt\n"
     ]
    }
   ],
   "source": [
    "import os \n",
    "\n",
    "for curDir, dirs, files in os.walk(\"test\"):\n",
    "    for f in files:\n",
    "        print(os.path.join(curDir, f))"
   ]
  },
  {
   "cell_type": "markdown",
   "metadata": {},
   "source": [
    "2. Getting the list of all files and directories in the specified directory"
   ]
  },
  {
   "cell_type": "code",
   "execution_count": 2,
   "metadata": {},
   "outputs": [
    {
     "name": "stdout",
     "output_type": "stream",
     "text": [
      "['sample1.txt.txt', 'sample2.txt.txt', 'sample3.txt.txt', 'subdir1', 'subdir2']\n"
     ]
    }
   ],
   "source": [
    "import os\n",
    "\n",
    "path = './dir'\n",
    "\n",
    "flist = os.listdir(path)\n",
    "print(flist)"
   ]
  },
  {
   "cell_type": "markdown",
   "metadata": {},
   "source": [
    "3. os.path()"
   ]
  },
  {
   "cell_type": "markdown",
   "metadata": {},
   "source": [
    "명령어 | 설명 | \n",
    "---- | ---- | \n",
    "exists() | 파일 및 디렉토리의 존재를 확인할 수 있다. return값은 Bool형이 된다.| \n",
    "isdir() | 디렉토리의 존재여부를 확인할 수 있다. return값은 Bool형 | \n",
    "isfile() | 파일의 존재여부를 확인할 수 있다. return값은 Bool형 | \n",
    "basename() | 지정된 경로의 파일명을 리턴한다. | \n",
    "dirname() | 지정된 경로로부터 파일명을 제외한 것을 리턴한다. | \n",
    "split() | 지정된 경로의 파일명과, 그 경로를 리턴한다. | \n",
    "splitext() | 지정된 파일의 확장자와 확장를 제외한 파일명까지의 경로를 리턴한다. | \n",
    "join() | 경로와 파일명 등을 결합하는 것이 가능하다. | "
   ]
  },
  {
   "cell_type": "markdown",
   "metadata": {},
   "source": [
    "4. os.environ()"
   ]
  },
  {
   "cell_type": "code",
   "execution_count": 1,
   "metadata": {},
   "outputs": [
    {
     "name": "stdout",
     "output_type": "stream",
     "text": [
      "env(): staging\n"
     ]
    }
   ],
   "source": [
    "import os\n",
    "\n",
    "os.environ[\"PHASE\"] = \"staging\"\n",
    "\n",
    "print(\"env(): \" + os.environ[\"PHASE\"])"
   ]
  },
  {
   "cell_type": "markdown",
   "metadata": {},
   "source": [
    "5. Creating a directory named path with the specified numeric mode"
   ]
  },
  {
   "cell_type": "code",
   "execution_count": 4,
   "metadata": {},
   "outputs": [],
   "source": [
    "import os \n",
    "\n",
    "path = './dir/sub'\n",
    "\n",
    "os.mkdir(path)"
   ]
  },
  {
   "cell_type": "markdown",
   "metadata": {},
   "source": [
    "6. Renaming the file or directory *src* to *dst*"
   ]
  },
  {
   "cell_type": "markdown",
   "metadata": {},
   "source": [
    "`src` - This is the actual name of the file or directory  \n",
    "  \n",
    "`dst` - This is the new name of the file or directory"
   ]
  },
  {
   "cell_type": "code",
   "execution_count": 4,
   "metadata": {},
   "outputs": [
    {
     "name": "stdout",
     "output_type": "stream",
     "text": [
      "True\n"
     ]
    }
   ],
   "source": [
    "import os \n",
    "\n",
    "path1 = 'dir/sample_00.txt'\n",
    "\n",
    "path2 = 'dir/sample_01.txt'\n",
    "\n",
    "os.rename(path1, path2)\n",
    "\n",
    "print(os.path.exists(path2))"
   ]
  },
  {
   "cell_type": "markdown",
   "metadata": {},
   "source": [
    "7. Removing or deleting a file path"
   ]
  },
  {
   "cell_type": "code",
   "execution_count": 6,
   "metadata": {},
   "outputs": [
    {
     "name": "stdout",
     "output_type": "stream",
     "text": [
      "False\n"
     ]
    }
   ],
   "source": [
    "import os \n",
    "\n",
    "path = './dir/sample.txt'\n",
    "\n",
    "os.remove(path)\n",
    "\n",
    "print(os.path.exists(path))"
   ]
  }
 ],
 "metadata": {
  "interpreter": {
   "hash": "8ed9ae93abaa12e24e35a144fcac96c2fe5eddf05cdbc96dec4142968a3464b3"
  },
  "kernelspec": {
   "display_name": "Python 3.9.7 ('base')",
   "language": "python",
   "name": "python3"
  },
  "language_info": {
   "codemirror_mode": {
    "name": "ipython",
    "version": 3
   },
   "file_extension": ".py",
   "mimetype": "text/x-python",
   "name": "python",
   "nbconvert_exporter": "python",
   "pygments_lexer": "ipython3",
   "version": "3.9.7"
  },
  "orig_nbformat": 4
 },
 "nbformat": 4,
 "nbformat_minor": 2
}
