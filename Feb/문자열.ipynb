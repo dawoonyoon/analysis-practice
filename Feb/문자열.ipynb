{
 "cells": [
  {
   "cell_type": "markdown",
   "metadata": {},
   "source": [
    "##### 문자열 분리하기"
   ]
  },
  {
   "cell_type": "markdown",
   "metadata": {},
   "source": [
    "str.split([sep])"
   ]
  },
  {
   "cell_type": "code",
   "execution_count": 2,
   "metadata": {},
   "outputs": [
    {
     "data": {
      "text/plain": [
       "['에스프레소', '아메리카노', '카페라떼', '카푸치노']"
      ]
     },
     "execution_count": 2,
     "metadata": {},
     "output_type": "execute_result"
    }
   ],
   "source": [
    "coffee_menu_str = \"에스프레소,아메리카노,카페라떼,카푸치노\"\n",
    "coffee_menu_str.split(',')"
   ]
  },
  {
   "cell_type": "code",
   "execution_count": 3,
   "metadata": {},
   "outputs": [
    {
     "data": {
      "text/plain": [
       "['에스프레소', '아메리카노', '카페라떼', '카푸치노']"
      ]
     },
     "execution_count": 3,
     "metadata": {},
     "output_type": "execute_result"
    }
   ],
   "source": [
    "\"에스프레소,아메리카노,카페라떼,카푸치노\".split(',')"
   ]
  },
  {
   "cell_type": "code",
   "execution_count": 5,
   "metadata": {},
   "outputs": [
    {
     "data": {
      "text/plain": [
       "['에스프레소', '아메리카노', '카페라떼', '카푸치노']"
      ]
     },
     "execution_count": 5,
     "metadata": {},
     "output_type": "execute_result"
    }
   ],
   "source": [
    "\"에스프레소 아메리카노 카페라떼 카푸치노\".split(' ')"
   ]
  },
  {
   "cell_type": "code",
   "execution_count": 6,
   "metadata": {},
   "outputs": [
    {
     "data": {
      "text/plain": [
       "['에스프레소', '아메리카노', '카페라떼', '카푸치노']"
      ]
     },
     "execution_count": 6,
     "metadata": {},
     "output_type": "execute_result"
    }
   ],
   "source": [
    "\"에스프레소 \\n\\n 아메리카노 \\n 카페라떼 카푸치노 \\n\\n\".split()"
   ]
  },
  {
   "cell_type": "markdown",
   "metadata": {},
   "source": [
    "str.split([sep ,] maxsplit=n)"
   ]
  },
  {
   "cell_type": "code",
   "execution_count": 7,
   "metadata": {},
   "outputs": [
    {
     "data": {
      "text/plain": [
       "['에스프레소', '아메리카노', '카페라떼 카푸치노']"
      ]
     },
     "execution_count": 7,
     "metadata": {},
     "output_type": "execute_result"
    }
   ],
   "source": [
    "\"에스프레소 아메리카노 카페라떼 카푸치노\".split(maxsplit=2)"
   ]
  },
  {
   "cell_type": "code",
   "execution_count": 9,
   "metadata": {},
   "outputs": [
    {
     "name": "stdout",
     "output_type": "stream",
     "text": [
      "['+82', '01-2345-6789']\n",
      "국내 전화번호: 01-2345-6789\n"
     ]
    }
   ],
   "source": [
    "phone_number = \"+82-01-2345-6789\"\n",
    "split_num = phone_number.split(\"-\", 1)\n",
    "\n",
    "print(split_num)\n",
    "print(\"국내 전화번호: {0}\".format(split_num[1]))"
   ]
  },
  {
   "cell_type": "markdown",
   "metadata": {},
   "source": [
    "##### 필요없는 문자열 삭제하기"
   ]
  },
  {
   "cell_type": "markdown",
   "metadata": {},
   "source": [
    "str.split([chars])"
   ]
  },
  {
   "cell_type": "code",
   "execution_count": 10,
   "metadata": {},
   "outputs": [
    {
     "data": {
      "text/plain": [
       "'Python'"
      ]
     },
     "execution_count": 10,
     "metadata": {},
     "output_type": "execute_result"
    }
   ],
   "source": [
    "\"aaaaPythonaaa\".strip('a')"
   ]
  },
  {
   "cell_type": "code",
   "execution_count": 11,
   "metadata": {},
   "outputs": [
    {
     "data": {
      "text/plain": [
       "'bbPythonbbb'"
      ]
     },
     "execution_count": 11,
     "metadata": {},
     "output_type": "execute_result"
    }
   ],
   "source": [
    "test_str = \"aaabbPythonbbbaa\"\n",
    "temp1 = test_str.strip('a')\n",
    "temp1"
   ]
  },
  {
   "cell_type": "code",
   "execution_count": 12,
   "metadata": {},
   "outputs": [
    {
     "data": {
      "text/plain": [
       "'Python'"
      ]
     },
     "execution_count": 12,
     "metadata": {},
     "output_type": "execute_result"
    }
   ],
   "source": [
    "temp1.strip('b')"
   ]
  },
  {
   "cell_type": "code",
   "execution_count": 13,
   "metadata": {},
   "outputs": [
    {
     "data": {
      "text/plain": [
       "'Python'"
      ]
     },
     "execution_count": 13,
     "metadata": {},
     "output_type": "execute_result"
    }
   ],
   "source": [
    "test_str.strip('ab')"
   ]
  },
  {
   "cell_type": "code",
   "execution_count": 14,
   "metadata": {},
   "outputs": [
    {
     "data": {
      "text/plain": [
       "'Python'"
      ]
     },
     "execution_count": 14,
     "metadata": {},
     "output_type": "execute_result"
    }
   ],
   "source": [
    "test_str.strip('ba')"
   ]
  },
  {
   "cell_type": "code",
   "execution_count": 17,
   "metadata": {},
   "outputs": [
    {
     "data": {
      "text/plain": [
       "'Python is powerful'"
      ]
     },
     "execution_count": 17,
     "metadata": {},
     "output_type": "execute_result"
    }
   ],
   "source": [
    "test_str_multi = \"##***!!!##... Python is powerful.!... %%!#..   \"\n",
    "test_str_multi.strip('*.#! %')"
   ]
  },
  {
   "cell_type": "code",
   "execution_count": 16,
   "metadata": {},
   "outputs": [
    {
     "data": {
      "text/plain": [
       "'Python is powerful'"
      ]
     },
     "execution_count": 16,
     "metadata": {},
     "output_type": "execute_result"
    }
   ],
   "source": [
    "test_str_multi.strip('%* !#.')"
   ]
  },
  {
   "cell_type": "code",
   "execution_count": 18,
   "metadata": {},
   "outputs": [
    {
     "data": {
      "text/plain": [
       "'Python'"
      ]
     },
     "execution_count": 18,
     "metadata": {},
     "output_type": "execute_result"
    }
   ],
   "source": [
    "\"   Python   \".strip(' ')"
   ]
  },
  {
   "cell_type": "code",
   "execution_count": 20,
   "metadata": {},
   "outputs": [
    {
     "data": {
      "text/plain": [
       "'Python'"
      ]
     },
     "execution_count": 20,
     "metadata": {},
     "output_type": "execute_result"
    }
   ],
   "source": [
    "\"\\n Python \\n\\n\".strip(' \\n')"
   ]
  },
  {
   "cell_type": "code",
   "execution_count": 21,
   "metadata": {},
   "outputs": [
    {
     "data": {
      "text/plain": [
       "'Python'"
      ]
     },
     "execution_count": 21,
     "metadata": {},
     "output_type": "execute_result"
    }
   ],
   "source": [
    "\"\\n Python \\n\\n\".strip()"
   ]
  },
  {
   "cell_type": "code",
   "execution_count": 22,
   "metadata": {},
   "outputs": [
    {
     "data": {
      "text/plain": [
       "'Ball'"
      ]
     },
     "execution_count": 22,
     "metadata": {},
     "output_type": "execute_result"
    }
   ],
   "source": [
    "\"aaaBallaaa\".strip('a')"
   ]
  },
  {
   "cell_type": "code",
   "execution_count": 23,
   "metadata": {},
   "outputs": [
    {
     "data": {
      "text/plain": [
       "'This is very \\n fast.'"
      ]
     },
     "execution_count": 23,
     "metadata": {},
     "output_type": "execute_result"
    }
   ],
   "source": [
    "\"\\n This is very \\n fast. \\n\\n\".strip()"
   ]
  },
  {
   "cell_type": "code",
   "execution_count": 24,
   "metadata": {},
   "outputs": [
    {
     "name": "stdout",
     "output_type": "stream",
     "text": [
      "Python is easy to learn.\n",
      "Python is easy to learn.000\n",
      "000Python is easy to learn.\n"
     ]
    }
   ],
   "source": [
    "str_lr = \"000Python is easy to learn.000\"\n",
    "print(str_lr.strip('0'))\n",
    "print(str_lr.lstrip('0'))\n",
    "print(str_lr.rstrip('0'))"
   ]
  },
  {
   "cell_type": "code",
   "execution_count": 25,
   "metadata": {},
   "outputs": [
    {
     "data": {
      "text/plain": [
       "['   에스프레소', ' 아메리카노', '    카페라떼   ', ' 카푸치노  ']"
      ]
     },
     "execution_count": 25,
     "metadata": {},
     "output_type": "execute_result"
    }
   ],
   "source": [
    "coffee_menu = \"   에스프레소, 아메리카노,    카페라떼   , 카푸치노  \"\n",
    "coffee_menu_list = coffee_menu.split(',')\n",
    "coffee_menu_list"
   ]
  },
  {
   "cell_type": "code",
   "execution_count": 26,
   "metadata": {},
   "outputs": [
    {
     "name": "stdout",
     "output_type": "stream",
     "text": [
      "['에스프레소', '아메리카노', '카페라떼', '카푸치노']\n"
     ]
    }
   ],
   "source": [
    "coffee_list = []\n",
    "for coffee in coffee_menu_list:\n",
    "    temp=coffee.strip()\n",
    "    coffee_list.append(temp)\n",
    "\n",
    "print(coffee_list)"
   ]
  },
  {
   "cell_type": "markdown",
   "metadata": {},
   "source": [
    "##### 문자열 연결하기"
   ]
  },
  {
   "cell_type": "code",
   "execution_count": 27,
   "metadata": {},
   "outputs": [
    {
     "name": "stdout",
     "output_type": "stream",
     "text": [
      "철수님, 주소와 전화번호를 입력해 주세요.\n",
      "영미님, 주소와 전화번호를 입력해 주세요.\n"
     ]
    }
   ],
   "source": [
    "name1 = \"철수\"\n",
    "name2 = \"영미\"\n",
    "\n",
    "hello =\"님, 주소와 전화번호를 입력해 주세요.\"\n",
    "print(name1 + hello)\n",
    "print(name2 + hello)"
   ]
  },
  {
   "cell_type": "markdown",
   "metadata": {},
   "source": [
    "str.join(seq)"
   ]
  },
  {
   "cell_type": "code",
   "execution_count": 28,
   "metadata": {},
   "outputs": [
    {
     "data": {
      "text/plain": [
       "['서울시', '서초구', '반포대로', '201(반포동)']"
      ]
     },
     "execution_count": 28,
     "metadata": {},
     "output_type": "execute_result"
    }
   ],
   "source": [
    "address_list = [\"서울시\", \"서초구\", \"반포대로\", \"201(반포동)\"]\n",
    "address_list"
   ]
  },
  {
   "cell_type": "code",
   "execution_count": 29,
   "metadata": {},
   "outputs": [
    {
     "data": {
      "text/plain": [
       "'서울시 서초구 반포대로 201(반포동)'"
      ]
     },
     "execution_count": 29,
     "metadata": {},
     "output_type": "execute_result"
    }
   ],
   "source": [
    "a = \" \"\n",
    "a.join(address_list)"
   ]
  },
  {
   "cell_type": "code",
   "execution_count": 30,
   "metadata": {},
   "outputs": [
    {
     "data": {
      "text/plain": [
       "'서울시 서초구 반포대로 201(반포동)'"
      ]
     },
     "execution_count": 30,
     "metadata": {},
     "output_type": "execute_result"
    }
   ],
   "source": [
    "\" \".join(address_list)"
   ]
  },
  {
   "cell_type": "code",
   "execution_count": 32,
   "metadata": {},
   "outputs": [
    {
     "data": {
      "text/plain": [
       "'서울시*^-^*서초구*^-^*반포대로*^-^*201(반포동)'"
      ]
     },
     "execution_count": 32,
     "metadata": {},
     "output_type": "execute_result"
    }
   ],
   "source": [
    "\"*^-^*\".join(address_list)"
   ]
  },
  {
   "cell_type": "markdown",
   "metadata": {},
   "source": [
    "##### 문자열 찾기"
   ]
  },
  {
   "cell_type": "markdown",
   "metadata": {},
   "source": [
    "str.find(search_str)"
   ]
  },
  {
   "cell_type": "code",
   "execution_count": 1,
   "metadata": {},
   "outputs": [
    {
     "name": "stdout",
     "output_type": "stream",
     "text": [
      "찾는 문자열의 위치: 0\n",
      "찾는 문자열의 위치: 7\n",
      "찾는 문자열의 위치: 5\n",
      "찾는 문자열의 위치: -1\n"
     ]
    }
   ],
   "source": [
    "str_f = \"Python code.\"\n",
    "\n",
    "print(\"찾는 문자열의 위치:\", str_f.find(\"Python\"))\n",
    "print(\"찾는 문자열의 위치:\", str_f.find(\"code\"))\n",
    "print(\"찾는 문자열의 위치:\", str_f.find(\"n\"))\n",
    "print(\"찾는 문자열의 위치:\", str_f.find(\"easy\"))"
   ]
  },
  {
   "cell_type": "markdown",
   "metadata": {},
   "source": [
    "str.find(search_str, start, end)  \n",
    "  \n",
    "str.find(search_str, start)"
   ]
  },
  {
   "cell_type": "code",
   "execution_count": 2,
   "metadata": {},
   "outputs": [
    {
     "name": "stdout",
     "output_type": "stream",
     "text": [
      "20\n",
      "-1\n"
     ]
    }
   ],
   "source": [
    "str_f_se = \"Python is powerful. Python is easy to learn.\"\n",
    "\n",
    "print(str_f_se.find(\"Python\", 10, 30)) # 시작 위치(start)와 끝 위치(end) 지정\n",
    "print(str_f_se.find(\"Python\", 35)) # 찾기 위한 시작 위치(start) 지정"
   ]
  },
  {
   "cell_type": "markdown",
   "metadata": {},
   "source": [
    "str.count(search_str)  \n",
    "  \n",
    "str.count(search_str, start)  \n",
    "  \n",
    "str.count(search_str, start, end)"
   ]
  },
  {
   "cell_type": "code",
   "execution_count": 3,
   "metadata": {},
   "outputs": [
    {
     "name": "stdout",
     "output_type": "stream",
     "text": [
      "Python의 개수는? : 3\n",
      "powerful 개수는? : 1\n",
      "IPython의 개수는? : 0\n"
     ]
    }
   ],
   "source": [
    "str_c = \"Python is powerful. Python is easy to learn. Python is open.\"\n",
    "\n",
    "print(\"Python의 개수는? :\", str_c.count(\"Python\"))\n",
    "print(\"powerful 개수는? :\", str_c.count(\"powerful\"))\n",
    "print(\"IPython의 개수는? :\", str_c.count(\"IPython\"))"
   ]
  },
  {
   "cell_type": "markdown",
   "metadata": {},
   "source": [
    "str.startswith(prefix)  \n",
    "  \n",
    "str.endswith(suffix)  "
   ]
  },
  {
   "cell_type": "code",
   "execution_count": 4,
   "metadata": {},
   "outputs": [
    {
     "name": "stdout",
     "output_type": "stream",
     "text": [
      "Python으로 시작? : True\n",
      "is로 시작? : False\n",
      ".로 끝? : True\n",
      "learn으로 끝? : False\n"
     ]
    }
   ],
   "source": [
    "str_se = \"Python is powerful. Python is easy to learn.\"\n",
    "\n",
    "print(\"Python으로 시작? :\", str_se.startswith(\"Python\"))\n",
    "print(\"is로 시작? :\", str_se.startswith(\"is\"))\n",
    "print(\".로 끝? :\", str_se.endswith(\".\"))\n",
    "print(\"learn으로 끝? :\", str_se.endswith(\"learn\"))"
   ]
  },
  {
   "cell_type": "markdown",
   "metadata": {},
   "source": [
    "##### 문자열 바꾸기"
   ]
  },
  {
   "cell_type": "markdown",
   "metadata": {},
   "source": [
    "str.replace(old, new[, count])"
   ]
  },
  {
   "cell_type": "code",
   "execution_count": 6,
   "metadata": {},
   "outputs": [
    {
     "name": "stdout",
     "output_type": "stream",
     "text": [
      "IPython is fast. IPython is friendly. IPython is open.\n",
      "IPython is fast. IPython is friendly. Python is open.\n"
     ]
    }
   ],
   "source": [
    "str_a = \"Python is fast. Python is friendly. Python is open.\"\n",
    "\n",
    "print(str_a.replace('Python', 'IPython'))\n",
    "print(str_a.replace('Python', 'IPython', 2))"
   ]
  },
  {
   "cell_type": "code",
   "execution_count": 8,
   "metadata": {},
   "outputs": [
    {
     "name": "stdout",
     "output_type": "stream",
     "text": [
      "[Python] [is] [fast]\n",
      "Python] is] fast]\n",
      "Python is fast\n"
     ]
    }
   ],
   "source": [
    "str_b = \"[Python] [is] [fast]\"\n",
    "str_b1 = str_b.replace('[', '')\n",
    "str_b2 = str_b1.replace(']', '')\n",
    "\n",
    "print(str_b)\n",
    "print(str_b1)\n",
    "print(str_b2)"
   ]
  },
  {
   "cell_type": "markdown",
   "metadata": {},
   "source": [
    "##### 문자열의 구성 확인하기"
   ]
  },
  {
   "cell_type": "code",
   "execution_count": 9,
   "metadata": {},
   "outputs": [
    {
     "name": "stdout",
     "output_type": "stream",
     "text": [
      "True\n",
      "False\n"
     ]
    }
   ],
   "source": [
    "print(\"Python\".isalpha())  # 문자열에 공백, 특수 문자, 숫자가 없음\n",
    "print(\"Ver. 3.x\".isalpha())  #  공백, 특수 문자, 숫자 중 하나가 있음"
   ]
  },
  {
   "cell_type": "code",
   "execution_count": 10,
   "metadata": {},
   "outputs": [
    {
     "name": "stdout",
     "output_type": "stream",
     "text": [
      "True\n",
      "False\n"
     ]
    }
   ],
   "source": [
    "print(\"12345\".isdigit())  # 문자열이 모두 숫자로 구성됨\n",
    "print(\"12345abc\".isdigit())  #  문자열이 숫자로만 구성되지 않음"
   ]
  },
  {
   "cell_type": "code",
   "execution_count": 11,
   "metadata": {},
   "outputs": [
    {
     "name": "stdout",
     "output_type": "stream",
     "text": [
      "True\n",
      "False\n"
     ]
    }
   ],
   "source": [
    "print(\"abc1234\".isalnum())  # 특수 문자나 공백이 아닌 문자와 숫자로 구성됨\n",
    "print(\"   abc1234\".isalnum())  #  문자열에 공백이 있음"
   ]
  },
  {
   "cell_type": "code",
   "execution_count": 12,
   "metadata": {},
   "outputs": [
    {
     "name": "stdout",
     "output_type": "stream",
     "text": [
      "True\n",
      "False\n"
     ]
    }
   ],
   "source": [
    "print('   '.isspace())  # 문자열이 공백으로만 구성됨\n",
    "print(' 1 '.isspace())  # 문자열에 공백 외에 다른 문자가 있음"
   ]
  },
  {
   "cell_type": "markdown",
   "metadata": {},
   "source": [
    "### 텍스트 파일의 데이터를 읽고 처리하기\n",
    "##### 데이터 파일 준비 및 읽기"
   ]
  },
  {
   "cell_type": "code",
   "execution_count": 18,
   "metadata": {},
   "outputs": [
    {
     "name": "stdout",
     "output_type": "stream",
     "text": [
      "날짜 에스프레소 아메리카노 카페라떼 카푸치노\n",
      "10.15\t10\t 50\t   45\t  20\n",
      "10.16\t12\t 45\t   41\t  18\n",
      "10.17\t11\t 53\t   32\t  25\n",
      "10.18\t15\t 49\t   38\t  22\n"
     ]
    }
   ],
   "source": [
    "!type \"C:\\myPyCode\\data\\coffeeShopSales.txt\""
   ]
  },
  {
   "cell_type": "code",
   "execution_count": 19,
   "metadata": {},
   "outputs": [
    {
     "name": "stdout",
     "output_type": "stream",
     "text": [
      "날짜 에스프레소 아메리카노 카페라떼 카푸치노\n",
      "10.15\t10\t 50\t   45\t  20\n",
      "10.16\t12\t 45\t   41\t  18\n",
      "10.17\t11\t 53\t   32\t  25\n",
      "10.18\t15\t 49\t   38\t  22"
     ]
    }
   ],
   "source": [
    "file_name = \"C:\\myPyCode\\data\\coffeeShopSales.txt\"\n",
    "\n",
    "f = open(file_name)         # 파일 열기\n",
    "for line in f:              # 한 줄씩 읽기\n",
    "    print(line, end='')     # 한 줄씩 출력\n",
    "f.close()                   # 파일 닫기"
   ]
  },
  {
   "cell_type": "markdown",
   "metadata": {},
   "source": [
    "##### 파일에서 읽은 문자열 데이터 처리"
   ]
  },
  {
   "cell_type": "code",
   "execution_count": 21,
   "metadata": {},
   "outputs": [
    {
     "data": {
      "text/plain": [
       "'날짜 에스프레소 아메리카노 카페라떼 카푸치노\\n'"
      ]
     },
     "execution_count": 21,
     "metadata": {},
     "output_type": "execute_result"
    }
   ],
   "source": [
    "f = open(file_name)     # 파일 열기\n",
    "header = f.readline()   # 데이터의 첫 번째 줄을 읽음\n",
    "f.close()               # 파일 닫기\n",
    "\n",
    "header"
   ]
  },
  {
   "cell_type": "code",
   "execution_count": 22,
   "metadata": {},
   "outputs": [
    {
     "data": {
      "text/plain": [
       "['날짜', '에스프레소', '아메리카노', '카페라떼', '카푸치노']"
      ]
     },
     "execution_count": 22,
     "metadata": {},
     "output_type": "execute_result"
    }
   ],
   "source": [
    "header_list = header.split()    # 첫 줄의 문자열을 분리 후 리스트로 변환\n",
    "header_list"
   ]
  },
  {
   "cell_type": "code",
   "execution_count": 24,
   "metadata": {},
   "outputs": [
    {
     "name": "stdout",
     "output_type": "stream",
     "text": [
      "['10.15', '10', '50', '45', '20']\n",
      "['10.16', '12', '45', '41', '18']\n",
      "['10.17', '11', '53', '32', '25']\n",
      "['10.18', '15', '49', '38', '22']\n"
     ]
    }
   ],
   "source": [
    "f = open(file_name)             # 파일 열기\n",
    "header = f.readline()           # 데이터의 첫 번째 줄을 읽음\n",
    "header_list = header.split()    # 첫 줄의 문자열을 분리한 후 리스트로 변환\n",
    "\n",
    "for line in f:                  # 두 번째 줄부터 데이터를 읽어서 반복적으로 처리\n",
    "    data_list = line.split()    # 문자열을 분리해서 리스트로 변환\n",
    "    print(data_list)            # 결과 확인을 위해 리스트 출력\n",
    "\n",
    "f.close()                       # 파일 닫기"
   ]
  },
  {
   "cell_type": "code",
   "execution_count": 26,
   "metadata": {},
   "outputs": [
    {
     "name": "stdout",
     "output_type": "stream",
     "text": [
      "커피 종류별 판매량\n",
      "에스프레소: [10, 12, 11, 15]\n",
      "아메리카노: [50, 45, 53, 49]\n",
      "카페라떼: [45, 41, 32, 38]\n",
      "카푸치노: [20, 18, 25, 22]\n"
     ]
    }
   ],
   "source": [
    "f = open(file_name)         # 파일 열기\n",
    "header = f.readline()       # 데이터의 첫 번째 줄을 읽음\n",
    "headerList = header.split() # 첫 줄의 문자열을 분리한 후 리스트로 변환\n",
    "\n",
    "espresso = []               # 커피 종류별로 빈 리스트 생성\n",
    "americano = []\n",
    "cafelatte = []\n",
    "cappucino = []\n",
    "\n",
    "for line in f:              # 두 번째 줄부터 데이터를 읽어서 반복적으로 처리\n",
    "    dataList = line.split() # 문자열에서 공백을 제거해서 문자열 리스트로 변환\n",
    "    \n",
    "    # 커피 종류별로 정수로 변환한 후, 리스트의 항목으로 추가\n",
    "    espresso.append(int(dataList[1]))\n",
    "    americano.append(int(dataList[2]))\n",
    "    cafelatte.append(int(dataList[3]))\n",
    "    cappucino.append(int(dataList[4]))\n",
    "\n",
    "f.close()   # 파일 닫기\n",
    "\n",
    "print(\"커피 종류별 판매량\")\n",
    "print(\"{0}: {1}\".format(headerList[1], espresso))   # 변수에 할당된 값을 출력\n",
    "print(\"{0}: {1}\".format(headerList[2], americano))\n",
    "print(\"{0}: {1}\".format(headerList[3], cafelatte))\n",
    "print(\"{0}: {1}\".format(headerList[4], cappucino))"
   ]
  },
  {
   "cell_type": "code",
   "execution_count": 27,
   "metadata": {},
   "outputs": [
    {
     "name": "stdout",
     "output_type": "stream",
     "text": [
      "[에스프레소] 판매량\n",
      "- 나흘 전체: 48, 하루 평균: 12.0\n",
      "[아메리카노] 판매량\n",
      "- 나흘 전체: 197, 하루 평균: 49.25\n",
      "[카페라떼] 판매량\n",
      "- 나흘 전체: 156, 하루 평균: 39.0\n",
      "[카푸치노] 판매량\n",
      "- 나흘 전체: 85, 하루 평균: 21.25\n"
     ]
    }
   ],
   "source": [
    "total_sum = [sum(espresso), sum(americano), sum(cafelatte), sum(cappucino)]\n",
    "total_mean = [sum(espresso)/len(espresso), sum(americano)/len(americano),\n",
    "              sum(cafelatte)/len(cafelatte), sum(cappucino)/len(cappucino)]\n",
    "\n",
    "\n",
    "for k in range(len(total_sum)):\n",
    "    print('[{0}] 판매량'.format(headerList[k+1]))\n",
    "    print('- 나흘 전체: {0}, 하루 평균: {1}'.format(total_sum[k], total_mean[k]))"
   ]
  }
 ],
 "metadata": {
  "interpreter": {
   "hash": "8ed9ae93abaa12e24e35a144fcac96c2fe5eddf05cdbc96dec4142968a3464b3"
  },
  "kernelspec": {
   "display_name": "Python 3.9.7 ('base')",
   "language": "python",
   "name": "python3"
  },
  "language_info": {
   "codemirror_mode": {
    "name": "ipython",
    "version": 3
   },
   "file_extension": ".py",
   "mimetype": "text/x-python",
   "name": "python",
   "nbconvert_exporter": "python",
   "pygments_lexer": "ipython3",
   "version": "3.9.7"
  },
  "orig_nbformat": 4
 },
 "nbformat": 4,
 "nbformat_minor": 2
}
